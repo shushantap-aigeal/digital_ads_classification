{
 "cells": [
  {
   "cell_type": "markdown",
   "metadata": {
    "id": "zGRqKelgmREq"
   },
   "source": [
    "## All Necessary imports"
   ]
  },
  {
   "cell_type": "code",
   "execution_count": 76,
   "metadata": {
    "colab": {
     "base_uri": "https://localhost:8080/"
    },
    "executionInfo": {
     "elapsed": 5750,
     "status": "ok",
     "timestamp": 1657430819522,
     "user": {
      "displayName": "Priyanka Paudel",
      "userId": "07305791544175762571"
     },
     "user_tz": -345
    },
    "id": "HBk_wy9Mba5K",
    "outputId": "cf0565ad-3517-4d12-ebdf-0e10c8206089"
   },
   "outputs": [
    {
     "name": "stdout",
     "output_type": "stream",
     "text": [
      "Looking in indexes: https://pypi.org/simple, https://us-python.pkg.dev/colab-wheels/public/simple/\n",
      "Requirement already satisfied: fasttext in /usr/local/lib/python3.7/dist-packages (0.9.2)\n",
      "Requirement already satisfied: numpy in /usr/local/lib/python3.7/dist-packages (from fasttext) (1.21.6)\n",
      "Requirement already satisfied: pybind11>=2.2 in /usr/local/lib/python3.7/dist-packages (from fasttext) (2.9.2)\n",
      "Requirement already satisfied: setuptools>=0.7.0 in /usr/local/lib/python3.7/dist-packages (from fasttext) (57.4.0)\n"
     ]
    },
    {
     "name": "stderr",
     "output_type": "stream",
     "text": [
      "[nltk_data] Downloading package punkt to /root/nltk_data...\n",
      "[nltk_data]   Package punkt is already up-to-date!\n",
      "[nltk_data] Downloading package stopwords to /root/nltk_data...\n",
      "[nltk_data]   Package stopwords is already up-to-date!\n",
      "[nltk_data] Downloading package punkt to /root/nltk_data...\n",
      "[nltk_data]   Package punkt is already up-to-date!\n",
      "[nltk_data] Downloading package wordnet to /root/nltk_data...\n",
      "[nltk_data]   Package wordnet is already up-to-date!\n"
     ]
    }
   ],
   "source": [
    "! pip install fasttext\n",
    "import pandas as pd\n",
    "import numpy as np\n",
    "import matplotlib.pyplot as plt\n",
    "import plotly.express as px\n",
    "import fasttext\n",
    "import nltk\n",
    "import re\n",
    "import seaborn as sns\n",
    "from nltk.corpus import stopwords\n",
    "from nltk.stem import PorterStemmer\n",
    "from imblearn.over_sampling import SMOTE \n",
    "\n",
    "from sklearn.preprocessing import LabelEncoder\n",
    "\n",
    "from sklearn.model_selection import train_test_split\n",
    "from sklearn.model_selection import GridSearchCV, RandomizedSearchCV\n",
    "%matplotlib inline\n",
    "\n",
    "\n",
    "from sklearn.feature_extraction.text import CountVectorizer,TfidfVectorizer\n",
    "from sklearn.metrics import plot_confusion_matrix\n",
    "from sklearn.model_selection import train_test_split\n",
    "from sklearn.metrics import recall_score, precision_score\n",
    "from imblearn.under_sampling import RandomUnderSampler\n",
    "\n",
    "\n",
    "from nltk.stem import PorterStemmer, WordNetLemmatizer\n",
    "lemmatizer = WordNetLemmatizer()\n",
    "\n",
    "import warnings\n",
    "from sklearn.linear_model import LogisticRegression\n",
    "from sklearn.naive_bayes import MultinomialNB\n",
    "from sklearn.tree import DecisionTreeClassifier\n",
    "from sklearn.neighbors import KNeighborsClassifier\n",
    "from sklearn.ensemble import RandomForestClassifier\n",
    "from sklearn.ensemble import AdaBoostClassifier\n",
    "from sklearn.decomposition import TruncatedSVD\n",
    "\n",
    "from sklearn.ensemble import GradientBoostingClassifier\n",
    "from xgboost import XGBClassifier\n",
    "\n",
    "from nltk.tokenize import word_tokenize\n",
    "from nltk.corpus import wordnet, stopwords \n",
    "from nltk.tokenize import word_tokenize\n",
    "from sklearn.metrics import f1_score,accuracy_score\n",
    "import pickle \n",
    "\n",
    "nltk.download('punkt')\n",
    "nltk.download('stopwords')\n",
    "nltk.download('punkt')\n",
    "stop = stopwords.words('english')\n",
    "nltk.download('wordnet')\n",
    "from sklearn.metrics import classification_report\n",
    "\n",
    "from sklearn.multiclass import OneVsRestClassifier\n",
    "\n"
   ]
  },
  {
   "cell_type": "markdown",
   "metadata": {
    "id": "bBJkS-Tfbq5b"
   },
   "source": [
    "DATA PREPROCESSING/ CLEANING "
   ]
  },
  {
   "cell_type": "markdown",
   "metadata": {
    "id": "BvoaN32VbwPK"
   },
   "source": [
    "# CLASSIFIER \n",
    "## RANDOM FOREST"
   ]
  },
  {
   "cell_type": "code",
   "execution_count": 100,
   "metadata": {
    "executionInfo": {
     "elapsed": 555,
     "status": "ok",
     "timestamp": 1657437199196,
     "user": {
      "displayName": "Priyanka Paudel",
      "userId": "07305791544175762571"
     },
     "user_tz": -345
    },
    "id": "nkj5SDr2bvZp"
   },
   "outputs": [],
   "source": [
    "def train_rf(X_train, y_train, X_test, y_test):  \n",
    "    print(\"----------RANDOM FOREST-----------\")\n",
    "    clf = RandomForestClassifier(random_state=5)\n",
    "    parameters = {'n_estimators': [10,20,30,40,50,60,70,80,90,100], 'max_depth': [4,5,6,7,8], 'criterion': ['gini', 'entropy'], 'max_features': ['sqrt', 'log2']}\n",
    "\n",
    "    cv_combined = GridSearchCV(estimator=clf, param_grid=parameters, cv=5)\n",
    "    orc_clf = OneVsRestClassifier(estimator=cv_combined).fit(X_train, y_train)\n",
    "    orc_clf.fit(X_train, y_train)\n",
    "\n",
    "    y_pred = orc_clf.predict(X_test)\n",
    "    print(f1_score(y_test, y_pred, average='weighted'))\n",
    "    print(classification_report(y_test, y_pred))\n",
    "    print(classification_report(y_train, orc_clf.predict(X_train)))\n",
    "    filename = 'finalized_model_RF.sav'\n",
    "    pickle.dump(orc_clf, open(filename, 'wb'))\n",
    "    plot_confusion_matrix(orc_clf, X_test, y_test)\n",
    "    return {\n",
    "        \"f1_score\": f1_score(y_test, y_pred, average='weighted'),\n",
    "        \"test_score\" : accuracy_score(y_test, y_pred),\n",
    "        \"model\" : orc_clf\n",
    "    }\n",
    "    "
   ]
  },
  {
   "cell_type": "markdown",
   "metadata": {
    "id": "yNgPypa7cRy4"
   },
   "source": [
    "# CLASSIFIER\n",
    "\n",
    "## Decision Tree"
   ]
  },
  {
   "cell_type": "code",
   "execution_count": 99,
   "metadata": {
    "executionInfo": {
     "elapsed": 549,
     "status": "ok",
     "timestamp": 1657437195907,
     "user": {
      "displayName": "Priyanka Paudel",
      "userId": "07305791544175762571"
     },
     "user_tz": -345
    },
    "id": "rqYX0OyecWxI"
   },
   "outputs": [],
   "source": [
    "def train_dt(X_train, y_train, X_test, y_test):\n",
    "  \n",
    "    print(\"----------DECISION TREE-----------\")\n",
    "    clf = DecisionTreeClassifier(random_state=5)\n",
    "\n",
    "    parameters = {'max_depth': [4,5,6,7,8], 'criterion': ['gini', 'entropy'], 'max_features': ['sqrt', 'log2'], \n",
    "                     'min_samples_split': [2,6,10,14,18,22]}\n",
    "\n",
    "    cv_combined = GridSearchCV(estimator=clf, param_grid=parameters, cv=5, refit=True)\n",
    "    orc_clf = OneVsRestClassifier(estimator=cv_combined).fit(X_train, y_train)\n",
    "    orc_clf.fit(X_train, y_train)\n",
    "\n",
    "    pred_combined = orc_clf.predict(X_test)\n",
    "    y_pred = orc_clf.predict(X_test)\n",
    "    print(f1_score(y_test, y_pred, average='weighted'))\n",
    "    filename = 'finalized_model_DT.sav'\n",
    "    pickle.dump(orc_clf, open(filename, 'wb'))\n",
    "    print(classification_report(y_test, y_pred))\n",
    "    print(classification_report(y_train, orc_clf.predict(X_train)))\n",
    "    plot_confusion_matrix(orc_clf, X_test, y_test)\n",
    "    return {\n",
    "        \"f1_score\": f1_score(y_test, y_pred, average='weighted'),\n",
    "        \"test_score\" : accuracy_score(y_test, y_pred),\n",
    "        \"model\" : orc_clf\n",
    "    }\n",
    "    "
   ]
  },
  {
   "cell_type": "markdown",
   "metadata": {
    "id": "I0HGNl_70fmb"
   },
   "source": [
    "# CLassifier\n",
    "## XGBoost"
   ]
  },
  {
   "cell_type": "code",
   "execution_count": 104,
   "metadata": {
    "executionInfo": {
     "elapsed": 402,
     "status": "ok",
     "timestamp": 1657438918372,
     "user": {
      "displayName": "Priyanka Paudel",
      "userId": "07305791544175762571"
     },
     "user_tz": -345
    },
    "id": "GxaaqpGU0c18"
   },
   "outputs": [],
   "source": [
    "\n",
    "def train_xgb(X_train, y_train, X_test, y_test):\n",
    "  \n",
    "    print(\"-----------------XGBOOST---------------------\")\n",
    "    clf = XGBClassifier(random_state=5)\n",
    "    parameters = {\n",
    "        'min_child_weight': [1, 5, 10],\n",
    "        'gamma': [0.5, 1, 1.5, 2, 5],\n",
    "        'subsample': [0.6, 0.8, 1.0],\n",
    "        'colsample_bytree': [0.6, 0.8, 1.0],\n",
    "        'max_features': ['sqrt', 'log2'],\n",
    "        'criterion': ['gini', 'entropy'],\n",
    "        'max_depth': [4,5,6,7,8]\n",
    "        }\n",
    "        \n",
    "    cv_combined = RandomizedSearchCV(estimator=clf, param_distributions=parameters, cv=5, refit=True)\n",
    "    orc_clf = OneVsRestClassifier(estimator=cv_combined).fit(X_train, y_train)\n",
    "    orc_clf.fit(X_train, y_train)\n",
    "\n",
    "    pred_combined = orc_clf.predict(X_test)\n",
    "    y_pred = orc_clf.predict(X_test)\n",
    "    print(f1_score(y_test, y_pred, average='weighted'))\n",
    "    filename = 'finalized_model_XGB.sav'\n",
    "    pickle.dump(orc_clf, open(filename, 'wb'))\n",
    "    print(classification_report(y_test, y_pred))\n",
    "    print(classification_report(y_train, orc_clf.predict(X_train)))\n",
    "    plot_confusion_matrix(orc_clf, X_test, y_test)\n",
    "    return {\n",
    "        \"f1_score\": f1_score(y_test, y_pred, average='weighted'),\n",
    "        \"test_score\" : accuracy_score(y_test, y_pred),\n",
    "        \"model\" : orc_clf\n",
    "    }\n",
    "    "
   ]
  },
  {
   "cell_type": "markdown",
   "metadata": {
    "id": "HJcfS9_Ucb3P"
   },
   "source": [
    "## RESULT FORMAT "
   ]
  },
  {
   "cell_type": "code",
   "execution_count": null,
   "metadata": {
    "id": "9YDtacpFcfFy"
   },
   "outputs": [],
   "source": [
    "def create_log_dict(suffix, classifier, result, columns_to_drop):\n",
    "    row = {\"abg\": suffix,\n",
    "           \"classifier\": classifier,\n",
    "           \"params\": result[\"params\"],\n",
    "           \"f1_score\": result[\"f1_score\"],\n",
    "           \"train_score\": result[\"train_score\"],\n",
    "           \"test_score\": result[\"test_score\"],\n",
    "           \"dropped\": columns_to_drop[1:]\n",
    "          }\n",
    "    return row"
   ]
  },
  {
   "cell_type": "markdown",
   "metadata": {
    "id": "7K_JPdTkkmvu"
   },
   "source": [
    "## Function For Handling Categorical Variables "
   ]
  },
  {
   "cell_type": "code",
   "execution_count": 118,
   "metadata": {
    "executionInfo": {
     "elapsed": 423,
     "status": "ok",
     "timestamp": 1657445274245,
     "user": {
      "displayName": "Priyanka Paudel",
      "userId": "07305791544175762571"
     },
     "user_tz": -345
    },
    "id": "i56kermKkkom"
   },
   "outputs": [],
   "source": [
    "#for handlling categorical variables for valid_df & train_df\n",
    "def handle_cat_var(df,label_encoder,dataset=None):\n",
    "  if dataset == \"train\":\n",
    "    print(\"------- For Training Set Label Encoding -------------- \")\n",
    "    df[\"JobType\"] = label_encoder.fit_transform(df['JobType'])\n",
    "    print(np.unique(df[\"JobType\"]))\n",
    "\n",
    "  if dataset == \"valid\":\n",
    "    print(\"------- For Validation Set Label Encoding -------------- \")\n",
    "    df[\"JobType\"] = label_encoder.transform(df['JobType'])\n",
    "  return df[\"JobType\"]   "
   ]
  },
  {
   "cell_type": "markdown",
   "metadata": {
    "id": "WJbi2Ek2cPgS"
   },
   "source": [
    "## Function for Vectorization"
   ]
  },
  {
   "cell_type": "code",
   "execution_count": 94,
   "metadata": {
    "executionInfo": {
     "elapsed": 390,
     "status": "ok",
     "timestamp": 1657437106308,
     "user": {
      "displayName": "Priyanka Paudel",
      "userId": "07305791544175762571"
     },
     "user_tz": -345
    },
    "id": "6HEuzychcLCW"
   },
   "outputs": [],
   "source": [
    "#for vectorization of  valid_df & train_df\n",
    "def tfidf_vectorizer(df,vectorizer,dataset=None):\n",
    "  if dataset == \"train\":\n",
    "    print(\"------- For Training Set Vectorizer-------------- \")\n",
    "    X = vectorizer.fit_transform(df['Job_Description'])\n",
    "    X= X.toarray()\n",
    "    filename = 'vectorizer.sav'\n",
    "    pickle.dump(vectorizer, open(filename, 'wb'))\n",
    "  if dataset == \"valid\":\n",
    "    print(\"------- For Validation Set Vectorizer -------------- \")\n",
    "    X = vectorizer.transform(df['Job_Description'])\n",
    "    X= X.toarray()\n",
    "  return X "
   ]
  },
  {
   "cell_type": "markdown",
   "metadata": {
    "id": "BxAK6vFXabdz"
   },
   "source": [
    " ## Function for Different Models"
   ]
  },
  {
   "cell_type": "code",
   "execution_count": 119,
   "metadata": {
    "executionInfo": {
     "elapsed": 383,
     "status": "ok",
     "timestamp": 1657445282998,
     "user": {
      "displayName": "Priyanka Paudel",
      "userId": "07305791544175762571"
     },
     "user_tz": -345
    },
    "id": "303Ja-u9ZB_J"
   },
   "outputs": [],
   "source": [
    "def call_model_instance():\n",
    "  svd = TruncatedSVD(n_components=5, random_state=42)\n",
    "  vectorizer = TfidfVectorizer(stop_words = 'english')\n",
    "  label_encoder = LabelEncoder()\n",
    "  sm = SMOTE(random_state=2)\n",
    "  return svd,vectorizer,label_encoder,sm\n",
    "\n"
   ]
  },
  {
   "cell_type": "code",
   "execution_count": 106,
   "metadata": {
    "executionInfo": {
     "elapsed": 498,
     "status": "ok",
     "timestamp": 1657439457042,
     "user": {
      "displayName": "Priyanka Paudel",
      "userId": "07305791544175762571"
     },
     "user_tz": -345
    },
    "id": "9JJXL0xQXbBg"
   },
   "outputs": [],
   "source": [
    "def reduce_feature_size(df,svd,dataset=None):\n",
    "  if dataset == \"train\":\n",
    "    print(\"------- For Training Set Feature Reduction -------------- \")\n",
    "    data = svd.fit_transform(df)\n",
    "    filename = 'svd.sav'\n",
    "    pickle.dump(svd, open(filename, 'wb'))\n",
    "  if dataset == \"valid\":\n",
    "    print(\"------- For Validation Set Feature Reduction  -------------- \")\n",
    "    data = svd.transform(df) \n",
    "  return data "
   ]
  },
  {
   "cell_type": "markdown",
   "metadata": {
    "id": "awltiPWN3iai"
   },
   "source": [
    "## Preprocessing Module"
   ]
  },
  {
   "cell_type": "code",
   "execution_count": 32,
   "metadata": {
    "executionInfo": {
     "elapsed": 460,
     "status": "ok",
     "timestamp": 1657427176683,
     "user": {
      "displayName": "Priyanka Paudel",
      "userId": "07305791544175762571"
     },
     "user_tz": -345
    },
    "id": "gdpabhShVfaq"
   },
   "outputs": [],
   "source": [
    "def preprocessing(df):\n",
    "\n",
    "    \"\"\"Removing articles and punctuation, and standardizing whitespace are all typical text processing steps.\n",
    "\n",
    "    Input : Raw unpreprocessed text \n",
    "\n",
    "    Output : Processed text removed html url stopwords blankspaces\n",
    "\n",
    "    \"\"\"\n",
    "\n",
    "    import string, re\n",
    "\n",
    "    # remove html \n",
    "\n",
    "    text = re.sub(r\"http\\S+\", \"\", df)\n",
    "    text = re.sub(r\"Http\\S+\", \"\", text)\n",
    "\n",
    "    #  lemmatization for the messages \n",
    "\n",
    "    text = nltk.word_tokenize(text)\n",
    "    # text = [lemmatizer.lemmatize(text) for text in text if not text in stopwords.words('english')]\n",
    "    #msgs = [stemmer.stem(msg) for msg in msgs if not msg in stopwords.words('english')]\n",
    "    text = \" \".join(text)\n",
    "\n",
    "    # lowercasing of strings \n",
    "    text = text.lower()\n",
    "\n",
    "    # removing the articles in the text\n",
    "    regex = re.compile(r\"\\b(a|an|the)\\b\", re.UNICODE)\n",
    "    text = re.sub(regex, \" \", text)\n",
    "\n",
    "    \n",
    "    # removing the punctuation \n",
    "    exclude = set(string.punctuation)\n",
    "    text = \"\".join(ch for ch in text if ch not in exclude)\n",
    "    \n",
    "    # removing the white spaces \n",
    "    text = \" \".join(text.split())\n",
    "\n",
    "    # stop_words = set(stopwords.words('english'))\n",
    "  \n",
    "    # word_tokens = word_tokenize(text)\n",
    "      \n",
    "    # filtered_sentence = [w for w in word_tokens if not w.lower() in stop_words]\n",
    "      \n",
    "    # filtered_sentence = []\n",
    "      \n",
    "    # for w in word_tokens:\n",
    "    #     if w not in stop_words:\n",
    "    #         filtered_sentence.append(w)\n",
    "\n",
    "    return text"
   ]
  },
  {
   "cell_type": "markdown",
   "metadata": {
    "id": "QHxzh6MVcpiN"
   },
   "source": [
    "# TRAIN MODELS"
   ]
  },
  {
   "cell_type": "markdown",
   "metadata": {
    "id": "tlwAz2Lym_y9"
   },
   "source": [
    "## Function to handle the data\n",
    "\n",
    "- Loads Data \n",
    "- Selects only the necessary columns or fields\n",
    "- Handles Categorical Variables\n",
    "- Feature Extraction for both datasets\n",
    "- Splits dataset into train test data "
   ]
  },
  {
   "cell_type": "code",
   "execution_count": 120,
   "metadata": {
    "colab": {
     "base_uri": "https://localhost:8080/"
    },
    "executionInfo": {
     "elapsed": 2405,
     "status": "ok",
     "timestamp": 1657445291792,
     "user": {
      "displayName": "Priyanka Paudel",
      "userId": "07305791544175762571"
     },
     "user_tz": -345
    },
    "id": "BVbvfwpIc2y3",
    "outputId": "071d66b1-2cef-4b90-f87d-f3f4c7117834"
   },
   "outputs": [
    {
     "name": "stdout",
     "output_type": "stream",
     "text": [
      "        JobType                                    Job_Description\n",
      "0        Retail  rapidly growing national printing mailing comp...\n",
      "1        Retail  looking for experienced hvac installer for tem...\n",
      "2        Retail  modelservers we re currently looking to hire f...\n",
      "4     Jobs – IT  cdl class full time local regional driver need...\n",
      "5     Jobs – IT  necesito personal de limpieza con o sin experi...\n",
      "...         ...                                                ...\n",
      "1535    Banking  topranked proprietary trading firm maverick tr...\n",
      "1536    Banking  electronics company in carrollton is looking f...\n",
      "1537    Banking  red ’ s electric is looking to hire talented a...\n",
      "1538    Banking  cpa firm is hiring for accounting and tax prof...\n",
      "1540    Banking  now hiring in temple tx please give us call to...\n",
      "\n",
      "[1507 rows x 2 columns]\n",
      "Sell-House        606\n",
      "Retail            485\n",
      "Banking           190\n",
      "Rent-Apartment    135\n",
      "Jobs – IT          89\n",
      "Name: JobType, dtype: int64\n",
      "------- For Training Set Label Encoding -------------- \n",
      "[0 1 2 3 4 5]\n",
      "0          Retail\n",
      "1          Retail\n",
      "2          Retail\n",
      "4       Jobs – IT\n",
      "5       Jobs – IT\n",
      "          ...    \n",
      "1535      Banking\n",
      "1536      Banking\n",
      "1537      Banking\n",
      "1538      Banking\n",
      "1540      Banking\n",
      "Name: JobType, Length: 1507, dtype: object\n",
      "------- For Training Set Vectorizer-------------- \n",
      "------- For Training Set Feature Reduction -------------- \n",
      "After Reducing, the feature size of train_X: (1205, 5)\n",
      "------- For Validation Set Feature Reduction  -------------- \n",
      "After Reducing, the feature size of test_X: (302, 5)\n"
     ]
    }
   ],
   "source": [
    "# load training dataset\n",
    "# load validation dataset\n",
    "\n",
    "filepath_for_trainset = \"/content/concatenated_data.csv\"\n",
    "\n",
    "\n",
    "def data_handling(filepath_for_trainset):\n",
    "\n",
    "  ''' \n",
    "  Input : filepath_for_trainset & filepath_for_validset,\n",
    "  Output : x_train, x_test, y_train, y_test, \n",
    "  Description: Takes in path for train and validation set provides data labelling\n",
    "  vectorizes the data  and splits the set into train test and validation set\n",
    "\n",
    "  '''\n",
    "\n",
    "  train_df = pd.read_csv(filepath_for_trainset)\n",
    "  train_df = train_df[['JobType','Job_Description']]\n",
    "  train_df.dropna(subset = ['Job_Description'],inplace=True)\n",
    "  train_df.drop(index=[3],inplace=True)\n",
    "  train_df_counts = (train_df.JobType.value_counts())\n",
    "  print(train_df)\n",
    "  train_df.to_csv(\"With labels.csv\")\n",
    "  print(train_df_counts)\n",
    "\n",
    "  svd,vectorizer,label_encoder,sm = call_model_instance()\n",
    "  # labeling the two domains for train_df and validation_df \n",
    "  train_df_labels = handle_cat_var(train_df,label_encoder,dataset=\"train\")\n",
    "  print(train_df_labels)\n",
    "\n",
    "  # print(train_df_labels)\n",
    "  # print(train_df[train_df[train_df_labels.Job_Type == \"5\"]])\n",
    "  # vectorization of the two domains for train_df and validation_df \n",
    "  X_for_train_df = tfidf_vectorizer(train_df,vectorizer,dataset=\"train\")\n",
    "  \n",
    "  # splitting dataset into train test and split data\n",
    "  x_train, x_test, y_train, y_test = train_test_split(X_for_train_df, train_df_labels, test_size=0.2, random_state=434)\n",
    "\n",
    "  \n",
    "  x_train = reduce_feature_size(x_train,svd,dataset=\"train\")\n",
    "  print('After Reducing, the feature size of train_X: {}'.format(x_train.shape))\n",
    "  x_test = reduce_feature_size(x_test,svd,dataset=\"valid\")\n",
    "  print('After Reducing, the feature size of test_X: {}'.format(x_test.shape))\n",
    "\n",
    "\n",
    "  data_handler= {\"train_df\":train_df , \"x_train\" : x_train, \"x_test\" : x_test, \"y_train\" : y_train, \"y_test\" : y_test}\n",
    "\n",
    "  return data_handler\n",
    "# run the datahandling function \n",
    "data_handler = data_handling(filepath_for_trainset)"
   ]
  },
  {
   "cell_type": "code",
   "execution_count": 108,
   "metadata": {
    "executionInfo": {
     "elapsed": 866,
     "status": "ok",
     "timestamp": 1657442483762,
     "user": {
      "displayName": "Priyanka Paudel",
      "userId": "07305791544175762571"
     },
     "user_tz": -345
    },
    "id": "tgqmefIfROLl"
   },
   "outputs": [],
   "source": [
    "dataframe = pd.read_csv(\"/content/concatenated_data.csv\")"
   ]
  },
  {
   "cell_type": "code",
   "execution_count": 111,
   "metadata": {
    "colab": {
     "base_uri": "https://localhost:8080/",
     "height": 157
    },
    "executionInfo": {
     "elapsed": 402,
     "status": "ok",
     "timestamp": 1657442515808,
     "user": {
      "displayName": "Priyanka Paudel",
      "userId": "07305791544175762571"
     },
     "user_tz": -345
    },
    "id": "OfqIyUXdRUgt",
    "outputId": "d4e035b3-777a-4cd0-9664-ada568086ba5"
   },
   "outputs": [
    {
     "data": {
      "application/vnd.google.colaboratory.intrinsic+json": {
       "type": "string"
      },
      "text/plain": [
       "'modelservers we re currently looking to hire fun energized and dedicated modelservers to join our team make avg of 300 to 500 per shift in cash if your interested in working with us and believe that you d be strong asset to our club we ll train you to have knowledge of beverages and food service will be expected to serve guests in timely manner with great attitude if your wanting job that leads to better job like bartender or door hostess please stop by from 11am to 11pm ask for manager or apply online must be 21 and up to apply must be available weekends entertainers dancers new entertainers make average of 800 to 2000 per day make money anytime or as many hours as you want whether it be one day week or five you make your own hours to fit your busy life we re flexible with any hours you needs must be outgoing friendly no experience necessary we train on buddy system here so all new entertainers are paired with mentor just stop by for tour of club also hiring for barbacks floorman doorman apply in person between hours of 11am11pm for tour of club ask for dance manager 10601 plano rd dallas tx 752382143416643 garland richardson mesquite east dallas plano allan mckinney longview tyler wylie sashse rowlett rockwall tyler sherman gentlemans club strip club sports bar bar stripclub'"
      ]
     },
     "execution_count": 111,
     "metadata": {},
     "output_type": "execute_result"
    }
   ],
   "source": [
    "dataframe.Job_Description[2]"
   ]
  },
  {
   "cell_type": "markdown",
   "metadata": {
    "id": "0KBYMZpbvUB1"
   },
   "source": [
    "### Train a  Model"
   ]
  },
  {
   "cell_type": "code",
   "execution_count": 96,
   "metadata": {
    "executionInfo": {
     "elapsed": 456,
     "status": "ok",
     "timestamp": 1657437120845,
     "user": {
      "displayName": "Priyanka Paudel",
      "userId": "07305791544175762571"
     },
     "user_tz": -345
    },
    "id": "eJT168suuxKt"
   },
   "outputs": [],
   "source": [
    "\n",
    "def model_train(model_name=None):\n",
    "  ''' \n",
    "  Input : modelname,\n",
    "  Output : x_train, x_test, y_train, y_test, \n",
    "  Description: Takes in name of model for training and gives\n",
    "  out the data\n",
    "  '''\n",
    "  if model_name == \"Random_Forest\":\n",
    "    output = train_rf(data_handler[\"x_train\"], data_handler[\"y_train\"], data_handler[\"x_test\"], data_handler[\"y_test\"])\n",
    "  elif model_name == \"Decision_Tree\":\n",
    "    output = train_dt(data_handler[\"x_train\"], data_handler[\"y_train\"], data_handler[\"x_test\"], data_handler[\"y_test\"])\n",
    "  elif  model_name == \"XGBOOST\":\n",
    "    output = train_xgb(data_handler[\"x_train\"], data_handler[\"y_train\"], data_handler[\"x_test\"], data_handler[\"y_test\"])\n",
    "\n",
    "  return output \n",
    "\n"
   ]
  },
  {
   "cell_type": "markdown",
   "metadata": {
    "id": "Ta_TQdB6vvdO"
   },
   "source": [
    "### Train a Random Forest Model "
   ]
  },
  {
   "cell_type": "code",
   "execution_count": 102,
   "metadata": {
    "colab": {
     "base_uri": "https://localhost:8080/",
     "height": 872
    },
    "executionInfo": {
     "elapsed": 519666,
     "status": "ok",
     "timestamp": 1657438693366,
     "user": {
      "displayName": "Priyanka Paudel",
      "userId": "07305791544175762571"
     },
     "user_tz": -345
    },
    "id": "h5jmlcUzp5-8",
    "outputId": "47b58a9f-80fd-4379-b639-3b654f3dd29f"
   },
   "outputs": [
    {
     "metadata": {
      "tags": null
     },
     "name": "stdout",
     "output_type": "stream",
     "text": [
      "----------RANDOM FOREST-----------\n"
     ]
    },
    {
     "name": "stderr",
     "output_type": "stream",
     "text": [
      "/usr/local/lib/python3.7/dist-packages/sklearn/model_selection/_split.py:680: UserWarning: The least populated class in y has only 2 members, which is less than n_splits=5.\n",
      "  UserWarning,\n",
      "/usr/local/lib/python3.7/dist-packages/sklearn/model_selection/_split.py:680: UserWarning: The least populated class in y has only 2 members, which is less than n_splits=5.\n",
      "  UserWarning,\n"
     ]
    },
    {
     "name": "stdout",
     "output_type": "stream",
     "text": [
      "0.9498936815991256\n",
      "              precision    recall  f1-score   support\n",
      "\n",
      "           0       0.94      0.81      0.87        37\n",
      "           1       0.96      0.96      0.96        24\n",
      "           2       0.93      0.90      0.92        31\n",
      "           3       0.89      0.99      0.94        76\n",
      "           4       0.99      0.98      0.98       134\n",
      "\n",
      "    accuracy                           0.95       302\n",
      "   macro avg       0.94      0.93      0.93       302\n",
      "weighted avg       0.95      0.95      0.95       302\n",
      "\n",
      "              precision    recall  f1-score   support\n",
      "\n",
      "           0       0.93      0.93      0.93       153\n",
      "           1       0.96      0.83      0.89        65\n",
      "           2       1.00      0.90      0.95       104\n",
      "           3       0.94      0.98      0.96       409\n",
      "           4       0.99      0.99      0.99       472\n",
      "           5       1.00      0.50      0.67         2\n",
      "\n",
      "    accuracy                           0.96      1205\n",
      "   macro avg       0.97      0.86      0.90      1205\n",
      "weighted avg       0.96      0.96      0.96      1205\n",
      "\n"
     ]
    },
    {
     "name": "stderr",
     "output_type": "stream",
     "text": [
      "/usr/local/lib/python3.7/dist-packages/sklearn/utils/deprecation.py:87: FutureWarning: Function plot_confusion_matrix is deprecated; Function `plot_confusion_matrix` is deprecated in 1.0 and will be removed in 1.2. Use one of the class methods: ConfusionMatrixDisplay.from_predictions or ConfusionMatrixDisplay.from_estimator.\n",
      "  warnings.warn(msg, category=FutureWarning)\n"
     ]
    },
    {
     "data": {
      "image/png": "[encoded data removed]",
      "text/plain": [
       "<Figure size 432x288 with 2 Axes>"
      ]
     },
     "metadata": {
      "needs_background": "light"
     },
     "output_type": "display_data"
    }
   ],
   "source": [
    "#pass the name of the model and automate the trainig process\n",
    "rf_model_output = model_train(model_name=\"Random_Forest\")"
   ]
  },
  {
   "cell_type": "markdown",
   "metadata": {
    "id": "tS-BPJOT12oA"
   },
   "source": [
    "### Train a DecisionTree Model "
   ]
  },
  {
   "cell_type": "code",
   "execution_count": 101,
   "metadata": {
    "colab": {
     "base_uri": "https://localhost:8080/",
     "height": 872
    },
    "executionInfo": {
     "elapsed": 18662,
     "status": "ok",
     "timestamp": 1657437226098,
     "user": {
      "displayName": "Priyanka Paudel",
      "userId": "07305791544175762571"
     },
     "user_tz": -345
    },
    "id": "soO2UDRp0MCG",
    "outputId": "130c8cc4-3b4b-49d0-fda7-375f5b47c8fd"
   },
   "outputs": [
    {
     "name": "stdout",
     "output_type": "stream",
     "text": [
      "----------DECISION TREE-----------\n"
     ]
    },
    {
     "name": "stderr",
     "output_type": "stream",
     "text": [
      "/usr/local/lib/python3.7/dist-packages/sklearn/model_selection/_split.py:680: UserWarning: The least populated class in y has only 2 members, which is less than n_splits=5.\n",
      "  UserWarning,\n",
      "/usr/local/lib/python3.7/dist-packages/sklearn/model_selection/_split.py:680: UserWarning: The least populated class in y has only 2 members, which is less than n_splits=5.\n",
      "  UserWarning,\n"
     ]
    },
    {
     "name": "stdout",
     "output_type": "stream",
     "text": [
      "0.9368467790579027\n",
      "              precision    recall  f1-score   support\n",
      "\n",
      "           0       0.88      0.81      0.85        37\n",
      "           1       0.88      0.88      0.88        24\n",
      "           2       0.90      0.90      0.90        31\n",
      "           3       0.90      0.96      0.93        76\n",
      "           4       0.99      0.98      0.98       134\n",
      "\n",
      "    accuracy                           0.94       302\n",
      "   macro avg       0.91      0.91      0.91       302\n",
      "weighted avg       0.94      0.94      0.94       302\n",
      "\n",
      "              precision    recall  f1-score   support\n",
      "\n",
      "           0       0.90      0.86      0.88       153\n",
      "           1       0.89      0.86      0.88        65\n",
      "           2       0.97      0.88      0.92       104\n",
      "           3       0.93      0.98      0.96       409\n",
      "           4       0.99      0.99      0.99       472\n",
      "           5       1.00      0.50      0.67         2\n",
      "\n",
      "    accuracy                           0.95      1205\n",
      "   macro avg       0.95      0.84      0.88      1205\n",
      "weighted avg       0.95      0.95      0.95      1205\n",
      "\n"
     ]
    },
    {
     "name": "stderr",
     "output_type": "stream",
     "text": [
      "/usr/local/lib/python3.7/dist-packages/sklearn/utils/deprecation.py:87: FutureWarning: Function plot_confusion_matrix is deprecated; Function `plot_confusion_matrix` is deprecated in 1.0 and will be removed in 1.2. Use one of the class methods: ConfusionMatrixDisplay.from_predictions or ConfusionMatrixDisplay.from_estimator.\n",
      "  warnings.warn(msg, category=FutureWarning)\n"
     ]
    },
    {
     "data": {
      "image/png": "[encoded data removed]",
      "text/plain": [
       "<Figure size 432x288 with 2 Axes>"
      ]
     },
     "metadata": {
      "needs_background": "light"
     },
     "output_type": "display_data"
    }
   ],
   "source": [
    "#pass the name of the model and automate the trainig process\n",
    "dt_model_output = model_train(model_name=\"Decision_Tree\")"
   ]
  },
  {
   "cell_type": "markdown",
   "metadata": {
    "id": "zobmkd1OsBMr"
   },
   "source": [
    "### Train a XGBOOST "
   ]
  },
  {
   "cell_type": "code",
   "execution_count": 105,
   "metadata": {
    "colab": {
     "base_uri": "https://localhost:8080/",
     "height": 976
    },
    "executionInfo": {
     "elapsed": 11477,
     "status": "ok",
     "timestamp": 1657438961847,
     "user": {
      "displayName": "Priyanka Paudel",
      "userId": "07305791544175762571"
     },
     "user_tz": -345
    },
    "id": "LsYKrWkMqUp8",
    "outputId": "7d581fd1-7eb2-490f-be97-cdbb441c493d"
   },
   "outputs": [
    {
     "metadata": {
      "tags": null
     },
     "name": "stdout",
     "output_type": "stream",
     "text": [
      "-----------------XGBOOST---------------------\n"
     ]
    },
    {
     "name": "stderr",
     "output_type": "stream",
     "text": [
      "/usr/local/lib/python3.7/dist-packages/sklearn/model_selection/_split.py:680: UserWarning: The least populated class in y has only 2 members, which is less than n_splits=5.\n",
      "  UserWarning,\n",
      "/usr/local/lib/python3.7/dist-packages/sklearn/model_selection/_split.py:680: UserWarning: The least populated class in y has only 2 members, which is less than n_splits=5.\n",
      "  UserWarning,\n"
     ]
    },
    {
     "name": "stdout",
     "output_type": "stream",
     "text": [
      "0.9565182602692979\n",
      "              precision    recall  f1-score   support\n",
      "\n",
      "           0       0.89      0.84      0.86        37\n",
      "           1       0.92      0.92      0.92        24\n",
      "           2       0.93      0.90      0.92        31\n",
      "           3       0.95      0.99      0.97        76\n",
      "           4       0.99      0.99      0.99       134\n",
      "\n",
      "    accuracy                           0.96       302\n",
      "   macro avg       0.94      0.93      0.93       302\n",
      "weighted avg       0.96      0.96      0.96       302\n",
      "\n",
      "              precision    recall  f1-score   support\n",
      "\n",
      "           0       0.96      0.98      0.97       153\n",
      "           1       1.00      0.89      0.94        65\n",
      "           2       0.98      0.90      0.94       104\n",
      "           3       0.96      0.99      0.97       409\n",
      "           4       0.99      0.99      0.99       472\n",
      "           5       0.00      0.00      0.00         2\n",
      "\n",
      "    accuracy                           0.97      1205\n",
      "   macro avg       0.81      0.79      0.80      1205\n",
      "weighted avg       0.97      0.97      0.97      1205\n",
      "\n"
     ]
    },
    {
     "name": "stderr",
     "output_type": "stream",
     "text": [
      "/usr/local/lib/python3.7/dist-packages/sklearn/metrics/_classification.py:1318: UndefinedMetricWarning: Precision and F-score are ill-defined and being set to 0.0 in labels with no predicted samples. Use `zero_division` parameter to control this behavior.\n",
      "  _warn_prf(average, modifier, msg_start, len(result))\n",
      "/usr/local/lib/python3.7/dist-packages/sklearn/metrics/_classification.py:1318: UndefinedMetricWarning: Precision and F-score are ill-defined and being set to 0.0 in labels with no predicted samples. Use `zero_division` parameter to control this behavior.\n",
      "  _warn_prf(average, modifier, msg_start, len(result))\n",
      "/usr/local/lib/python3.7/dist-packages/sklearn/metrics/_classification.py:1318: UndefinedMetricWarning: Precision and F-score are ill-defined and being set to 0.0 in labels with no predicted samples. Use `zero_division` parameter to control this behavior.\n",
      "  _warn_prf(average, modifier, msg_start, len(result))\n",
      "/usr/local/lib/python3.7/dist-packages/sklearn/utils/deprecation.py:87: FutureWarning: Function plot_confusion_matrix is deprecated; Function `plot_confusion_matrix` is deprecated in 1.0 and will be removed in 1.2. Use one of the class methods: ConfusionMatrixDisplay.from_predictions or ConfusionMatrixDisplay.from_estimator.\n",
      "  warnings.warn(msg, category=FutureWarning)\n"
     ]
    },
    {
     "data": {
      "image/png": "[encoded data removed]",
      "text/plain": [
       "<Figure size 432x288 with 2 Axes>"
      ]
     },
     "metadata": {
      "needs_background": "light"
     },
     "output_type": "display_data"
    }
   ],
   "source": [
    "#pass the name of the model and automate the trainig process\n",
    "xgb_model_output = model_train(model_name=\"XGBOOST\") "
   ]
  },
  {
   "cell_type": "code",
   "execution_count": null,
   "metadata": {
    "colab": {
     "base_uri": "https://localhost:8080/"
    },
    "id": "ZdFTBFRHB9nf",
    "outputId": "95bf7f25-c3bc-4672-bfdf-25a1ba05cd34"
   },
   "outputs": [
    {
     "data": {
      "text/plain": [
       "{'f1_score': 0.9346535888952523,\n",
       " 'model': RandomizedSearchCV(cv=5, estimator=XGBClassifier(random_state=5),\n",
       "                    param_distributions={'colsample_bytree': [0.6, 0.8, 1.0],\n",
       "                                         'criterion': ['gini', 'entropy'],\n",
       "                                         'gamma': [0.5, 1, 1.5, 2, 5],\n",
       "                                         'max_depth': [4, 5, 6, 7, 8],\n",
       "                                         'max_features': ['sqrt', 'log2'],\n",
       "                                         'min_child_weight': [1, 5, 10],\n",
       "                                         'subsample': [0.6, 0.8, 1.0]}),\n",
       " 'params': {'colsample_bytree': 0.8,\n",
       "  'criterion': 'gini',\n",
       "  'gamma': 1,\n",
       "  'max_depth': 8,\n",
       "  'max_features': 'log2',\n",
       "  'min_child_weight': 1,\n",
       "  'subsample': 1.0},\n",
       " 'test_score': 0.9354304635761589,\n",
       " 'train_score': 0.9245758270834944}"
      ]
     },
     "execution_count": 20,
     "metadata": {},
     "output_type": "execute_result"
    }
   ],
   "source": [
    "xgb_model_output"
   ]
  },
  {
   "cell_type": "markdown",
   "metadata": {
    "id": "S7Wvf_EW8ixu"
   },
   "source": [
    "### Compare models for best performance and run validation data on the best performing model"
   ]
  },
  {
   "cell_type": "code",
   "execution_count": null,
   "metadata": {
    "colab": {
     "base_uri": "https://localhost:8080/"
    },
    "id": "CYxG-9JW8h9X",
    "outputId": "f600bbc8-413e-484b-b4bd-2de5dc154477"
   },
   "outputs": [
    {
     "name": "stdout",
     "output_type": "stream",
     "text": [
      "Finalized Model is : XGB Model\n",
      "The  val_score_test is 0.9 \n",
      "The val_recall_test is 0.9 \n",
      "The val_precision_test is 1.0 \n",
      "The val_f1_score_test is 0.8526315789473685\n"
     ]
    },
    {
     "name": "stderr",
     "output_type": "stream",
     "text": [
      "/usr/local/lib/python3.7/dist-packages/sklearn/metrics/_classification.py:1318: UndefinedMetricWarning: Recall is ill-defined and being set to 0.0 in labels with no true samples. Use `zero_division` parameter to control this behavior.\n",
      "  _warn_prf(average, modifier, msg_start, len(result))\n"
     ]
    }
   ],
   "source": [
    "def compare_and_finalize_models(rf,dt,xgb,valx_data,valy_data):\n",
    "\n",
    "  ''' Compares the best performing model and loads that particular model and performs validation on validation dataset.\n",
    "\n",
    "  Input : model outputs from RF, DT ,XGB ,X_validation,Y_validation\n",
    "\n",
    "  Output : Model metrics for Validation data '''\n",
    "\n",
    "  model_name = \"finalized__model.pkl\"\n",
    "  rfm = rf['test_score']\n",
    "  dtm = dt['test_score']\n",
    "  xgbm = xgb[\"test_score\"]\n",
    "\n",
    "  if rfm > dtm  and dtm > xgbm  :\n",
    "    print(\"Finalized Model is : RandomForestModel\")\n",
    "    loaded_model = pickle.load(open(\"/content/finalized_model_RF.sav\", 'rb'))\n",
    "  elif dtm > rfm and dtm > xgbm :\n",
    "    print(\"Finalized Model is : Decision Tree Model \")\n",
    "    loaded_model = pickle.load(open(\"/content/finalized_model_DT.sav\", 'rb'))\n",
    "  else:\n",
    "    print(\"Finalized Model is : XGB Model\")\n",
    "    loaded_model = pickle.load(open(\"/content/finalized_model_XGB.sav\", 'rb'))\n",
    "    \n",
    "\n",
    "  val_score_test = loaded_model.score(valx_data, valy_data)\n",
    "  print(f\"The  val_score_test is {val_score_test} \")\n",
    "\n",
    "  val_recall_test = recall_score(valy_data, loaded_model.predict(valx_data),average=\"weighted\")\n",
    "  print(f\"The val_recall_test is {val_recall_test} \")\n",
    "\n",
    "  val_precision_test = precision_score(valy_data, loaded_model.predict(valx_data),average=\"weighted\")\n",
    "  print(f\"The val_precision_test is {val_precision_test} \")\n",
    "\n",
    "  val_f1_score_test = f1_score(loaded_model.predict(valx_data),valy_data,average=\"weighted\")\n",
    "  print(f\"The val_f1_score_test is {val_f1_score_test}\")\n",
    "\n",
    "  output={ \"val_score_test\": val_score_test,\n",
    "      \"val_recall_test\" : val_recall_test,\n",
    "      \"val_precision_test\" : val_precision_test,\n",
    "      \"val_f1_score_test\" : val_f1_score_test}\n",
    "\n",
    "  return output\n",
    "        \n",
    "\n",
    "output = compare_and_finalize_models(rf_model_output,dt_model_output,xgb_model_output,data_handler[\"X_for_valid_df\"],data_handler[\"valid_df_labels\"])\n",
    " \n",
    "\n"
   ]
  },
  {
   "cell_type": "markdown",
   "metadata": {
    "id": "h4ulfH1nijZ1"
   },
   "source": [
    "## Build Confusion Matrix"
   ]
  },
  {
   "cell_type": "code",
   "execution_count": null,
   "metadata": {
    "id": "636W_Eyt0oJp"
   },
   "outputs": [],
   "source": [
    "import pandas as pd \n",
    "dataframe = pd.read_csv('/content/Predicted_results (1).csv')"
   ]
  },
  {
   "cell_type": "code",
   "execution_count": null,
   "metadata": {
    "id": "c0b0iJYu2k89"
   },
   "outputs": [],
   "source": [
    "vectorizer_model = pickle.load(open(\"/content/vectorizer.pk\", 'rb'))\n",
    "X = vectorizer_model.transform(dataframe[\"message\"])\n",
    "X= X.toarray()"
   ]
  },
  {
   "cell_type": "code",
   "execution_count": null,
   "metadata": {
    "colab": {
     "base_uri": "https://localhost:8080/"
    },
    "id": "2ziSXbHS04QU",
    "outputId": "de83be08-34ff-45e7-d2a7-2b997a9ceca1"
   },
   "outputs": [
    {
     "data": {
      "text/plain": [
       "array([[0., 0., 0., ..., 0., 0., 0.],\n",
       "       [0., 0., 0., ..., 0., 0., 0.],\n",
       "       [0., 0., 0., ..., 0., 0., 0.],\n",
       "       ...,\n",
       "       [0., 0., 0., ..., 0., 0., 0.],\n",
       "       [0., 0., 0., ..., 0., 0., 0.],\n",
       "       [0., 0., 0., ..., 0., 0., 0.]])"
      ]
     },
     "execution_count": 6,
     "metadata": {},
     "output_type": "execute_result"
    }
   ],
   "source": [
    "X"
   ]
  },
  {
   "cell_type": "code",
   "execution_count": null,
   "metadata": {
    "id": "Z5nCz35s2A3H"
   },
   "outputs": [],
   "source": [
    "transform_model = pickle.load(open(\"/content/encoder.pk\", 'rb'))\n",
    "dataframe[\"domain\"] = dataframe[\"domain\"].map(lambda x: x.lower())\n"
   ]
  },
  {
   "cell_type": "code",
   "execution_count": null,
   "metadata": {
    "colab": {
     "base_uri": "https://localhost:8080/"
    },
    "id": "t2iLGrQG34uT",
    "outputId": "75417652-524f-4234-9077-e7a74d7ef0a8"
   },
   "outputs": [
    {
     "data": {
      "text/plain": [
       "0          other\n",
       "1          other\n",
       "2          other\n",
       "3          other\n",
       "4          other\n",
       "          ...   \n",
       "2966    phishing\n",
       "2967    phishing\n",
       "2968    phishing\n",
       "2969    phishing\n",
       "2970    phishing\n",
       "Name: domain, Length: 2971, dtype: object"
      ]
     },
     "execution_count": 8,
     "metadata": {},
     "output_type": "execute_result"
    }
   ],
   "source": [
    "dataframe[\"domain\"]"
   ]
  },
  {
   "cell_type": "code",
   "execution_count": null,
   "metadata": {
    "id": "lFjT4ZUE33gf"
   },
   "outputs": [],
   "source": [
    "Y = transform_model.transform(dataframe[\"domain\"])"
   ]
  },
  {
   "cell_type": "code",
   "execution_count": null,
   "metadata": {
    "colab": {
     "base_uri": "https://localhost:8080/"
    },
    "id": "rxVsCUQM8hcI",
    "outputId": "cf3f9caa-a1c5-4cbd-f9d1-217c545ef06a"
   },
   "outputs": [
    {
     "data": {
      "text/plain": [
       "array([0, 0, 0, ..., 1, 1, 1])"
      ]
     },
     "execution_count": 12,
     "metadata": {},
     "output_type": "execute_result"
    }
   ],
   "source": [
    "Y"
   ]
  },
  {
   "cell_type": "code",
   "execution_count": null,
   "metadata": {
    "colab": {
     "base_uri": "https://localhost:8080/",
     "height": 718
    },
    "id": "TixwI8aadQJA",
    "outputId": "484fae86-65b9-49bc-c373-4eb00c37b26e"
   },
   "outputs": [
    {
     "name": "stdout",
     "output_type": "stream",
     "text": [
      "Finalized Model is : XGB Model\n"
     ]
    },
    {
     "name": "stderr",
     "output_type": "stream",
     "text": [
      "/usr/local/lib/python3.7/dist-packages/sklearn/utils/deprecation.py:87: FutureWarning: Function plot_confusion_matrix is deprecated; Function `plot_confusion_matrix` is deprecated in 1.0 and will be removed in 1.2. Use one of the class methods: ConfusionMatrixDisplay.from_predictions or ConfusionMatrixDisplay.from_estimator.\n",
      "  warnings.warn(msg, category=FutureWarning)\n"
     ]
    },
    {
     "data": {
      "image/png": "[encoded data removed]",
      "text/plain": [
       "<Figure size 720x720 with 2 Axes>"
      ]
     },
     "metadata": {},
     "output_type": "display_data"
    }
   ],
   "source": [
    "def build_confusion_matrix (valx_data,valy_data):\n",
    "\n",
    "  ''' Gives confusion matrix of trainset and validation set.\n",
    "\n",
    "  Input : model outputs from RF, DT ,XGB ,X_validation,Y_validation\n",
    "\n",
    "  Output : Model metrics for Validation data '''\n",
    "\n",
    "  model_name = \"finalized__model.pkl\"\n",
    "  # rfm = rf['test_score']\n",
    "  # dtm = dt['test_score']\n",
    "  # xgbm = xgb[\"test_score\"]\n",
    "\n",
    "  # if rfm > dtm  and dtm > xgbm  :\n",
    "  # print(\"Finalized Model is : RandomForestModel\")\n",
    "  # loaded_model = pickle.load(open(\"/content/finalized_model_RF.sav\", 'rb'))\n",
    "  # elif dtm > rfm and dtm > xgbm :\n",
    "  # print(\"Finalized Model is : Decision Tree Model \")\n",
    "  # loaded_model = pickle.load(open(\"/content/finalized_model_DT.sav\", 'rb'))\n",
    "  # else:\n",
    "  print(\"Finalized Model is : XGB Model\")\n",
    "  loaded_model = pickle.load(open(\"/content/finalized_model_XGB.sav\", 'rb'))\n",
    "\n",
    "\n",
    "# calculate confusion matrix for train and val subsets\n",
    "  fig, axes = plt.subplots(nrows=1, ncols=1, figsize=(10,10))\n",
    "  # titles for plots (1 common and 2 for subplots)\n",
    "  plt.suptitle(\"XGB\", fontsize=14)\n",
    "  axes.title.set_text('Confusion Matrix (For New Validation Set)')\n",
    "  plot_confusion_matrix(loaded_model, valx_data, valy_data, cmap=plt.cm.RdPu, ax=axes)\n",
    "  # axes[1].title.set_text('Confusion Matrix (For Train Set)')\n",
    "  # plot_confusion_matrix(loaded_model, X_train ,Y_train,cmap=plt.cm.RdPu, ax=axes[1])\n",
    "  \n",
    "    \n",
    "        \n",
    "\n",
    "output = build_confusion_matrix (X,Y)"
   ]
  },
  {
   "cell_type": "markdown",
   "metadata": {
    "id": "26U8DPsx7Gpf"
   },
   "source": [
    "### Visualize individual results for analysis and store in a file"
   ]
  },
  {
   "cell_type": "code",
   "execution_count": null,
   "metadata": {
    "id": "wBKevUcNS0o3"
   },
   "outputs": [],
   "source": [
    "individual_results= pd.DataFrame(columns = ['Model', 'Data', 'Actual_result', 'Predicted_Result'])"
   ]
  },
  {
   "cell_type": "code",
   "execution_count": null,
   "metadata": {
    "id": "s4-UQenn5Xtw"
   },
   "outputs": [],
   "source": [
    "def visualize_results(validation_df,individual_results):\n",
    "  for i in range(len(validation_df)):\n",
    "\n",
    "    model = pickle.load(open(\"/content/finalized_model_XGB.sav\", 'rb'))\n",
    "    vector_model = pickle.load(open(\"/content/vectorizer.pk\", 'rb'))\n",
    "    df = validation_df['message'][i]\n",
    "    print(df)\n",
    "    preprocessed_output = preprocessing(df)\n",
    "    print(preprocessed_output)\n",
    "    vectorized_output = feature_extract(vector_model,preprocessed_output)\n",
    "    print(vectorized_output)\n",
    "    val_score_test = model.predict_proba(preprocessed_output[vectorized_output])\n",
    "    print(val_score_test)\n",
    "    \n",
    "    model_result = {'Model':\"XGB\",\n",
    "                    'Data':validation_df.preview[i],\n",
    "                    'Actual_result':validation_df.Domain[i],\n",
    "                      'Predicted_Result':val_score_test}\n",
    "    individual_results = individual_results.append(model_result,ignore_index=True)\n",
    "  \n",
    "  individual_results.to_csv(\"Individual_Training_Results.csv\")\n",
    "  return(individual_results)\n",
    "    \n",
    "    "
   ]
  },
  {
   "cell_type": "code",
   "execution_count": null,
   "metadata": {
    "colab": {
     "base_uri": "https://localhost:8080/",
     "height": 502
    },
    "id": "8EfngEeco-lo",
    "outputId": "9054a07a-51a3-45ae-a7f3-f4c1c7171e9c"
   },
   "outputs": [
    {
     "ename": "KeyError",
     "evalue": "ignored",
     "output_type": "error",
     "traceback": [
      "\u001b[0;31m---------------------------------------------------------------------------\u001b[0m",
      "\u001b[0;31mKeyError\u001b[0m                                  Traceback (most recent call last)",
      "\u001b[0;32m/usr/local/lib/python3.7/dist-packages/pandas/core/indexes/base.py\u001b[0m in \u001b[0;36mget_loc\u001b[0;34m(self, key, method, tolerance)\u001b[0m\n\u001b[1;32m   3360\u001b[0m             \u001b[0;32mtry\u001b[0m\u001b[0;34m:\u001b[0m\u001b[0;34m\u001b[0m\u001b[0;34m\u001b[0m\u001b[0m\n\u001b[0;32m-> 3361\u001b[0;31m                 \u001b[0;32mreturn\u001b[0m \u001b[0mself\u001b[0m\u001b[0;34m.\u001b[0m\u001b[0m_engine\u001b[0m\u001b[0;34m.\u001b[0m\u001b[0mget_loc\u001b[0m\u001b[0;34m(\u001b[0m\u001b[0mcasted_key\u001b[0m\u001b[0;34m)\u001b[0m\u001b[0;34m\u001b[0m\u001b[0;34m\u001b[0m\u001b[0m\n\u001b[0m\u001b[1;32m   3362\u001b[0m             \u001b[0;32mexcept\u001b[0m \u001b[0mKeyError\u001b[0m \u001b[0;32mas\u001b[0m \u001b[0merr\u001b[0m\u001b[0;34m:\u001b[0m\u001b[0;34m\u001b[0m\u001b[0;34m\u001b[0m\u001b[0m\n",
      "\u001b[0;32m/usr/local/lib/python3.7/dist-packages/pandas/_libs/index.pyx\u001b[0m in \u001b[0;36mpandas._libs.index.IndexEngine.get_loc\u001b[0;34m()\u001b[0m\n",
      "\u001b[0;32m/usr/local/lib/python3.7/dist-packages/pandas/_libs/index.pyx\u001b[0m in \u001b[0;36mpandas._libs.index.IndexEngine.get_loc\u001b[0;34m()\u001b[0m\n",
      "\u001b[0;32mpandas/_libs/hashtable_class_helper.pxi\u001b[0m in \u001b[0;36mpandas._libs.hashtable.PyObjectHashTable.get_item\u001b[0;34m()\u001b[0m\n",
      "\u001b[0;32mpandas/_libs/hashtable_class_helper.pxi\u001b[0m in \u001b[0;36mpandas._libs.hashtable.PyObjectHashTable.get_item\u001b[0;34m()\u001b[0m\n",
      "\u001b[0;31mKeyError\u001b[0m: 1",
      "\nThe above exception was the direct cause of the following exception:\n",
      "\u001b[0;31mKeyError\u001b[0m                                  Traceback (most recent call last)",
      "\u001b[0;32m<ipython-input-47-002894674646>\u001b[0m in \u001b[0;36m<module>\u001b[0;34m()\u001b[0m\n\u001b[0;32m----> 1\u001b[0;31m \u001b[0mdf\u001b[0m \u001b[0;34m=\u001b[0m \u001b[0mvalidation_df\u001b[0m\u001b[0;34m[\u001b[0m\u001b[0;36m1\u001b[0m\u001b[0;34m]\u001b[0m\u001b[0;34m\u001b[0m\u001b[0;34m\u001b[0m\u001b[0m\n\u001b[0m",
      "\u001b[0;32m/usr/local/lib/python3.7/dist-packages/pandas/core/frame.py\u001b[0m in \u001b[0;36m__getitem__\u001b[0;34m(self, key)\u001b[0m\n\u001b[1;32m   3456\u001b[0m             \u001b[0;32mif\u001b[0m \u001b[0mself\u001b[0m\u001b[0;34m.\u001b[0m\u001b[0mcolumns\u001b[0m\u001b[0;34m.\u001b[0m\u001b[0mnlevels\u001b[0m \u001b[0;34m>\u001b[0m \u001b[0;36m1\u001b[0m\u001b[0;34m:\u001b[0m\u001b[0;34m\u001b[0m\u001b[0;34m\u001b[0m\u001b[0m\n\u001b[1;32m   3457\u001b[0m                 \u001b[0;32mreturn\u001b[0m \u001b[0mself\u001b[0m\u001b[0;34m.\u001b[0m\u001b[0m_getitem_multilevel\u001b[0m\u001b[0;34m(\u001b[0m\u001b[0mkey\u001b[0m\u001b[0;34m)\u001b[0m\u001b[0;34m\u001b[0m\u001b[0;34m\u001b[0m\u001b[0m\n\u001b[0;32m-> 3458\u001b[0;31m             \u001b[0mindexer\u001b[0m \u001b[0;34m=\u001b[0m \u001b[0mself\u001b[0m\u001b[0;34m.\u001b[0m\u001b[0mcolumns\u001b[0m\u001b[0;34m.\u001b[0m\u001b[0mget_loc\u001b[0m\u001b[0;34m(\u001b[0m\u001b[0mkey\u001b[0m\u001b[0;34m)\u001b[0m\u001b[0;34m\u001b[0m\u001b[0;34m\u001b[0m\u001b[0m\n\u001b[0m\u001b[1;32m   3459\u001b[0m             \u001b[0;32mif\u001b[0m \u001b[0mis_integer\u001b[0m\u001b[0;34m(\u001b[0m\u001b[0mindexer\u001b[0m\u001b[0;34m)\u001b[0m\u001b[0;34m:\u001b[0m\u001b[0;34m\u001b[0m\u001b[0;34m\u001b[0m\u001b[0m\n\u001b[1;32m   3460\u001b[0m                 \u001b[0mindexer\u001b[0m \u001b[0;34m=\u001b[0m \u001b[0;34m[\u001b[0m\u001b[0mindexer\u001b[0m\u001b[0;34m]\u001b[0m\u001b[0;34m\u001b[0m\u001b[0;34m\u001b[0m\u001b[0m\n",
      "\u001b[0;32m/usr/local/lib/python3.7/dist-packages/pandas/core/indexes/base.py\u001b[0m in \u001b[0;36mget_loc\u001b[0;34m(self, key, method, tolerance)\u001b[0m\n\u001b[1;32m   3361\u001b[0m                 \u001b[0;32mreturn\u001b[0m \u001b[0mself\u001b[0m\u001b[0;34m.\u001b[0m\u001b[0m_engine\u001b[0m\u001b[0;34m.\u001b[0m\u001b[0mget_loc\u001b[0m\u001b[0;34m(\u001b[0m\u001b[0mcasted_key\u001b[0m\u001b[0;34m)\u001b[0m\u001b[0;34m\u001b[0m\u001b[0;34m\u001b[0m\u001b[0m\n\u001b[1;32m   3362\u001b[0m             \u001b[0;32mexcept\u001b[0m \u001b[0mKeyError\u001b[0m \u001b[0;32mas\u001b[0m \u001b[0merr\u001b[0m\u001b[0;34m:\u001b[0m\u001b[0;34m\u001b[0m\u001b[0;34m\u001b[0m\u001b[0m\n\u001b[0;32m-> 3363\u001b[0;31m                 \u001b[0;32mraise\u001b[0m \u001b[0mKeyError\u001b[0m\u001b[0;34m(\u001b[0m\u001b[0mkey\u001b[0m\u001b[0;34m)\u001b[0m \u001b[0;32mfrom\u001b[0m \u001b[0merr\u001b[0m\u001b[0;34m\u001b[0m\u001b[0;34m\u001b[0m\u001b[0m\n\u001b[0m\u001b[1;32m   3364\u001b[0m \u001b[0;34m\u001b[0m\u001b[0m\n\u001b[1;32m   3365\u001b[0m         \u001b[0;32mif\u001b[0m \u001b[0mis_scalar\u001b[0m\u001b[0;34m(\u001b[0m\u001b[0mkey\u001b[0m\u001b[0;34m)\u001b[0m \u001b[0;32mand\u001b[0m \u001b[0misna\u001b[0m\u001b[0;34m(\u001b[0m\u001b[0mkey\u001b[0m\u001b[0;34m)\u001b[0m \u001b[0;32mand\u001b[0m \u001b[0;32mnot\u001b[0m \u001b[0mself\u001b[0m\u001b[0;34m.\u001b[0m\u001b[0mhasnans\u001b[0m\u001b[0;34m:\u001b[0m\u001b[0;34m\u001b[0m\u001b[0;34m\u001b[0m\u001b[0m\n",
      "\u001b[0;31mKeyError\u001b[0m: 1"
     ]
    }
   ],
   "source": [
    "df = validation_df[1]"
   ]
  },
  {
   "cell_type": "code",
   "execution_count": null,
   "metadata": {
    "id": "ZkyuzdEpj0BL"
   },
   "outputs": [],
   "source": [
    "def preprocessing(df):\n",
    "\n",
    "    \"\"\"Removing articles and punctuation, and standardizing whitespace are all typical text processing steps.\n",
    "\n",
    "    Input : Raw unpreprocessed text \n",
    "\n",
    "    Output : Processed text removed html url stopwords blankspaces\n",
    "\n",
    "    \"\"\"\n",
    "\n",
    "    import string, re\n",
    "\n",
    "    # remove html \n",
    "\n",
    "    text = re.sub(r\"http\\S+\", \"\", df)\n",
    "    text = re.sub(r\"Http\\S+\", \"\", text)\n",
    "\n",
    "    #  lemmatization for the messages \n",
    "\n",
    "    text = nltk.word_tokenize(text)\n",
    "    text = [lemmatizer.lemmatize(text) for text in text if not text in stopwords.words('english')]\n",
    "    #msgs = [stemmer.stem(msg) for msg in msgs if not msg in stopwords.words('english')]\n",
    "    text = \" \".join(text)\n",
    "\n",
    "    # lowercasing of strings \n",
    "    text = text.lower()\n",
    "\n",
    "    # removing the articles in the text\n",
    "    regex = re.compile(r\"\\b(a|an|the)\\b\", re.UNICODE)\n",
    "    text = re.sub(regex, \" \", text)\n",
    "\n",
    "    \n",
    "    # removing the punctuation \n",
    "    exclude = set(string.punctuation)\n",
    "    text = \"\".join(ch for ch in text if ch not in exclude)\n",
    "\n",
    "    # removing the white spaces \n",
    "    text = \" \".join(text.split())\n",
    "\n",
    "    return text\n",
    "\n",
    "\n",
    "def feature_extract(vector_model,cleaned_text):\n",
    "\n",
    "    \"\"\" Extract features from the data using TF-IDF vectorizer .\n",
    "\n",
    "    Input : Cleaned Text for features extraction \n",
    "\n",
    "    Output : Vectorized text with dimension 500 \n",
    "\n",
    "    \"\"\"\n",
    "\n",
    "    vectorized_output = vector_model.transform([cleaned_text])\n",
    "    vectorized_output = vectorized_output.toarray()\n",
    "    return vectorized_output\n",
    "\n",
    "    \n",
    "def predict_text(model,cleaned_text,features):\n",
    "\n",
    "    \"\"\" Predicts model score for a single input data .\n",
    "\n",
    "    Input : Cleaned Text & Features used for Prediction\n",
    "\n",
    "    Output : Cleaned Text, Label_definition either Phishing or Not Phishing and score of the predicted output\n",
    "    \n",
    "    \"\"\"\n",
    "\n",
    "    cleaned_text = cleaned_text\n",
    "        \n",
    "    features = features\n",
    "    \n",
    "    output = dict()\n",
    "    score = model.predict_proba(features)\n",
    "    if score[0][0]>score[0][1]:\n",
    "        score = str(score[0][0])\n",
    "    else :\n",
    "        score = str(score[0][1])\n",
    "\n",
    "    label = model.predict(features)\n",
    "    if label[0] == 0 :\n",
    "        label_def = \"Not Phishing\"\n",
    "    elif label[0] == 1 :\n",
    "        label_def = \"Phishing\" \n",
    "    text = cleaned_text \n",
    "\n",
    "    output = { \"text\" : text , \"label_definition\" : label_def ,\"score\" : score }\n",
    "    \n",
    "\n",
    "    return output "
   ]
  },
  {
   "cell_type": "code",
   "execution_count": null,
   "metadata": {
    "id": "bbMctDwFZdaX"
   },
   "outputs": [],
   "source": [
    "validation_df = pd.read_excel(\"/content/04-26 this weeks feed report search results.xlsx\")"
   ]
  },
  {
   "cell_type": "code",
   "execution_count": null,
   "metadata": {
    "id": "2SKQBvCFlxLa"
   },
   "outputs": [],
   "source": [
    "validation_df.rename(columns = {'Phishing':'domain', 'preview':'message'}, inplace = True)\n",
    "  "
   ]
  },
  {
   "cell_type": "code",
   "execution_count": null,
   "metadata": {
    "colab": {
     "base_uri": "https://localhost:8080/",
     "height": 424
    },
    "id": "SZzFVWuCnbc8",
    "outputId": "ac2172cc-23e2-455b-9790-24a9bfb5dd3d"
   },
   "outputs": [
    {
     "data": {
      "text/html": [
       "\n",
       "  <div id=\"df-9693d239-d211-4911-b209-f37c39ff7c00\">\n",
       "    <div class=\"colab-df-container\">\n",
       "      <div>\n",
       "<style scoped>\n",
       "    .dataframe tbody tr th:only-of-type {\n",
       "        vertical-align: middle;\n",
       "    }\n",
       "\n",
       "    .dataframe tbody tr th {\n",
       "        vertical-align: top;\n",
       "    }\n",
       "\n",
       "    .dataframe thead th {\n",
       "        text-align: right;\n",
       "    }\n",
       "</style>\n",
       "<table border=\"1\" class=\"dataframe\">\n",
       "  <thead>\n",
       "    <tr style=\"text-align: right;\">\n",
       "      <th></th>\n",
       "      <th>domain</th>\n",
       "      <th>URL</th>\n",
       "      <th>message</th>\n",
       "    </tr>\n",
       "  </thead>\n",
       "  <tbody>\n",
       "    <tr>\n",
       "      <th>0</th>\n",
       "      <td>Phishing</td>\n",
       "      <td>lanza.me/fA2</td>\n",
       "      <td>Fifth Third Online #509: Your Account has been...</td>\n",
       "    </tr>\n",
       "    <tr>\n",
       "      <th>1</th>\n",
       "      <td>Phishing</td>\n",
       "      <td>https://rebrand.ly/trdln</td>\n",
       "      <td>Fifth Third: : your Account is blocked because...</td>\n",
       "    </tr>\n",
       "    <tr>\n",
       "      <th>2</th>\n",
       "      <td>Phishing</td>\n",
       "      <td>query.scanbegin.com/h4rjat</td>\n",
       "      <td>Your acc with fifth third has been disabled af...</td>\n",
       "    </tr>\n",
       "    <tr>\n",
       "      <th>3</th>\n",
       "      <td>Phishing</td>\n",
       "      <td>https://rgio.cc/secured53</td>\n",
       "      <td>53 Bank Alert: We lock access when we detect u...</td>\n",
       "    </tr>\n",
       "    <tr>\n",
       "      <th>4</th>\n",
       "      <td>Phishing</td>\n",
       "      <td>http://5-3rd-online.preview-domain.com/53d</td>\n",
       "      <td>FRM:FIFTH THIRD \\nMSG:We have placed a tempora...</td>\n",
       "    </tr>\n",
       "    <tr>\n",
       "      <th>...</th>\n",
       "      <td>...</td>\n",
       "      <td>...</td>\n",
       "      <td>...</td>\n",
       "    </tr>\n",
       "    <tr>\n",
       "      <th>13571</th>\n",
       "      <td>OTHER</td>\n",
       "      <td>https://app.eventconnect.io/events/17929/hotel...</td>\n",
       "      <td>Zoom into June: https://app.eventconnect.io/ev...</td>\n",
       "    </tr>\n",
       "    <tr>\n",
       "      <th>13572</th>\n",
       "      <td>OTHER</td>\n",
       "      <td>https://zoom.us/j/8533197160</td>\n",
       "      <td>Zoom strike update\\n\\nKaty Rose is inviting yo...</td>\n",
       "    </tr>\n",
       "    <tr>\n",
       "      <th>13573</th>\n",
       "      <td>OTHER</td>\n",
       "      <td>stevespestcontrol.com</td>\n",
       "      <td>ztext:\\nby stevespestcontrol.com\\nBREAKING: Ea...</td>\n",
       "    </tr>\n",
       "    <tr>\n",
       "      <th>13574</th>\n",
       "      <td>OTHER</td>\n",
       "      <td>https://macropoint.co/2kG5sA</td>\n",
       "      <td>Zuum Transportation Inc requires real time loc...</td>\n",
       "    </tr>\n",
       "    <tr>\n",
       "      <th>13575</th>\n",
       "      <td>OTHER</td>\n",
       "      <td>https://smile.amazon.com/dp/B07WNCVJD8/ref=cm_...</td>\n",
       "      <td>ZZRUI Upgraded 2 in 1 Portable Door Stopper Fl...</td>\n",
       "    </tr>\n",
       "  </tbody>\n",
       "</table>\n",
       "<p>13576 rows × 3 columns</p>\n",
       "</div>\n",
       "      <button class=\"colab-df-convert\" onclick=\"convertToInteractive('df-9693d239-d211-4911-b209-f37c39ff7c00')\"\n",
       "              title=\"Convert this dataframe to an interactive table.\"\n",
       "              style=\"display:none;\">\n",
       "        \n",
       "  <svg xmlns=\"http://www.w3.org/2000/svg\" height=\"24px\"viewBox=\"0 0 24 24\"\n",
       "       width=\"24px\">\n",
       "    <path d=\"M0 0h24v24H0V0z\" fill=\"none\"/>\n",
       "    <path d=\"M18.56 5.44l.94 2.06.94-2.06 2.06-.94-2.06-.94-.94-2.06-.94 2.06-2.06.94zm-11 1L8.5 8.5l.94-2.06 2.06-.94-2.06-.94L8.5 2.5l-.94 2.06-2.06.94zm10 10l.94 2.06.94-2.06 2.06-.94-2.06-.94-.94-2.06-.94 2.06-2.06.94z\"/><path d=\"M17.41 7.96l-1.37-1.37c-.4-.4-.92-.59-1.43-.59-.52 0-1.04.2-1.43.59L10.3 9.45l-7.72 7.72c-.78.78-.78 2.05 0 2.83L4 21.41c.39.39.9.59 1.41.59.51 0 1.02-.2 1.41-.59l7.78-7.78 2.81-2.81c.8-.78.8-2.07 0-2.86zM5.41 20L4 18.59l7.72-7.72 1.47 1.35L5.41 20z\"/>\n",
       "  </svg>\n",
       "      </button>\n",
       "      \n",
       "  <style>\n",
       "    .colab-df-container {\n",
       "      display:flex;\n",
       "      flex-wrap:wrap;\n",
       "      gap: 12px;\n",
       "    }\n",
       "\n",
       "    .colab-df-convert {\n",
       "      background-color: #E8F0FE;\n",
       "      border: none;\n",
       "      border-radius: 50%;\n",
       "      cursor: pointer;\n",
       "      display: none;\n",
       "      fill: #1967D2;\n",
       "      height: 32px;\n",
       "      padding: 0 0 0 0;\n",
       "      width: 32px;\n",
       "    }\n",
       "\n",
       "    .colab-df-convert:hover {\n",
       "      background-color: #E2EBFA;\n",
       "      box-shadow: 0px 1px 2px rgba(60, 64, 67, 0.3), 0px 1px 3px 1px rgba(60, 64, 67, 0.15);\n",
       "      fill: #174EA6;\n",
       "    }\n",
       "\n",
       "    [theme=dark] .colab-df-convert {\n",
       "      background-color: #3B4455;\n",
       "      fill: #D2E3FC;\n",
       "    }\n",
       "\n",
       "    [theme=dark] .colab-df-convert:hover {\n",
       "      background-color: #434B5C;\n",
       "      box-shadow: 0px 1px 3px 1px rgba(0, 0, 0, 0.15);\n",
       "      filter: drop-shadow(0px 1px 2px rgba(0, 0, 0, 0.3));\n",
       "      fill: #FFFFFF;\n",
       "    }\n",
       "  </style>\n",
       "\n",
       "      <script>\n",
       "        const buttonEl =\n",
       "          document.querySelector('#df-9693d239-d211-4911-b209-f37c39ff7c00 button.colab-df-convert');\n",
       "        buttonEl.style.display =\n",
       "          google.colab.kernel.accessAllowed ? 'block' : 'none';\n",
       "\n",
       "        async function convertToInteractive(key) {\n",
       "          const element = document.querySelector('#df-9693d239-d211-4911-b209-f37c39ff7c00');\n",
       "          const dataTable =\n",
       "            await google.colab.kernel.invokeFunction('convertToInteractive',\n",
       "                                                     [key], {});\n",
       "          if (!dataTable) return;\n",
       "\n",
       "          const docLinkHtml = 'Like what you see? Visit the ' +\n",
       "            '<a target=\"_blank\" href=https://colab.research.google.com/notebooks/data_table.ipynb>data table notebook</a>'\n",
       "            + ' to learn more about interactive tables.';\n",
       "          element.innerHTML = '';\n",
       "          dataTable['output_type'] = 'display_data';\n",
       "          await google.colab.output.renderOutput(dataTable, element);\n",
       "          const docLink = document.createElement('div');\n",
       "          docLink.innerHTML = docLinkHtml;\n",
       "          element.appendChild(docLink);\n",
       "        }\n",
       "      </script>\n",
       "    </div>\n",
       "  </div>\n",
       "  "
      ],
      "text/plain": [
       "         domain                                                URL  \\\n",
       "0      Phishing                                       lanza.me/fA2   \n",
       "1      Phishing                           https://rebrand.ly/trdln   \n",
       "2      Phishing                         query.scanbegin.com/h4rjat   \n",
       "3      Phishing                          https://rgio.cc/secured53   \n",
       "4      Phishing         http://5-3rd-online.preview-domain.com/53d   \n",
       "...         ...                                                ...   \n",
       "13571     OTHER  https://app.eventconnect.io/events/17929/hotel...   \n",
       "13572     OTHER                       https://zoom.us/j/8533197160   \n",
       "13573     OTHER                              stevespestcontrol.com   \n",
       "13574     OTHER                       https://macropoint.co/2kG5sA   \n",
       "13575     OTHER  https://smile.amazon.com/dp/B07WNCVJD8/ref=cm_...   \n",
       "\n",
       "                                                 message  \n",
       "0      Fifth Third Online #509: Your Account has been...  \n",
       "1      Fifth Third: : your Account is blocked because...  \n",
       "2      Your acc with fifth third has been disabled af...  \n",
       "3      53 Bank Alert: We lock access when we detect u...  \n",
       "4      FRM:FIFTH THIRD \\nMSG:We have placed a tempora...  \n",
       "...                                                  ...  \n",
       "13571  Zoom into June: https://app.eventconnect.io/ev...  \n",
       "13572  Zoom strike update\\n\\nKaty Rose is inviting yo...  \n",
       "13573  ztext:\\nby stevespestcontrol.com\\nBREAKING: Ea...  \n",
       "13574  Zuum Transportation Inc requires real time loc...  \n",
       "13575  ZZRUI Upgraded 2 in 1 Portable Door Stopper Fl...  \n",
       "\n",
       "[13576 rows x 3 columns]"
      ]
     },
     "execution_count": 42,
     "metadata": {},
     "output_type": "execute_result"
    }
   ],
   "source": [
    "validation_df.reset_index(drop=True)"
   ]
  },
  {
   "cell_type": "code",
   "execution_count": null,
   "metadata": {
    "colab": {
     "base_uri": "https://localhost:8080/",
     "height": 502
    },
    "id": "4Hon17PDoPJ9",
    "outputId": "79af5918-bb64-49cb-f7a8-23371076e84b"
   },
   "outputs": [
    {
     "ename": "KeyError",
     "evalue": "ignored",
     "output_type": "error",
     "traceback": [
      "\u001b[0;31m---------------------------------------------------------------------------\u001b[0m",
      "\u001b[0;31mKeyError\u001b[0m                                  Traceback (most recent call last)",
      "\u001b[0;32m/usr/local/lib/python3.7/dist-packages/pandas/core/indexes/base.py\u001b[0m in \u001b[0;36mget_loc\u001b[0;34m(self, key, method, tolerance)\u001b[0m\n\u001b[1;32m   3360\u001b[0m             \u001b[0;32mtry\u001b[0m\u001b[0;34m:\u001b[0m\u001b[0;34m\u001b[0m\u001b[0;34m\u001b[0m\u001b[0m\n\u001b[0;32m-> 3361\u001b[0;31m                 \u001b[0;32mreturn\u001b[0m \u001b[0mself\u001b[0m\u001b[0;34m.\u001b[0m\u001b[0m_engine\u001b[0m\u001b[0;34m.\u001b[0m\u001b[0mget_loc\u001b[0m\u001b[0;34m(\u001b[0m\u001b[0mcasted_key\u001b[0m\u001b[0;34m)\u001b[0m\u001b[0;34m\u001b[0m\u001b[0;34m\u001b[0m\u001b[0m\n\u001b[0m\u001b[1;32m   3362\u001b[0m             \u001b[0;32mexcept\u001b[0m \u001b[0mKeyError\u001b[0m \u001b[0;32mas\u001b[0m \u001b[0merr\u001b[0m\u001b[0;34m:\u001b[0m\u001b[0;34m\u001b[0m\u001b[0;34m\u001b[0m\u001b[0m\n",
      "\u001b[0;32m/usr/local/lib/python3.7/dist-packages/pandas/_libs/index.pyx\u001b[0m in \u001b[0;36mpandas._libs.index.IndexEngine.get_loc\u001b[0;34m()\u001b[0m\n",
      "\u001b[0;32m/usr/local/lib/python3.7/dist-packages/pandas/_libs/index.pyx\u001b[0m in \u001b[0;36mpandas._libs.index.IndexEngine.get_loc\u001b[0;34m()\u001b[0m\n",
      "\u001b[0;32mpandas/_libs/hashtable_class_helper.pxi\u001b[0m in \u001b[0;36mpandas._libs.hashtable.PyObjectHashTable.get_item\u001b[0;34m()\u001b[0m\n",
      "\u001b[0;32mpandas/_libs/hashtable_class_helper.pxi\u001b[0m in \u001b[0;36mpandas._libs.hashtable.PyObjectHashTable.get_item\u001b[0;34m()\u001b[0m\n",
      "\u001b[0;31mKeyError\u001b[0m: 0",
      "\nThe above exception was the direct cause of the following exception:\n",
      "\u001b[0;31mKeyError\u001b[0m                                  Traceback (most recent call last)",
      "\u001b[0;32m<ipython-input-43-6e934102ecde>\u001b[0m in \u001b[0;36m<module>\u001b[0;34m()\u001b[0m\n\u001b[0;32m----> 1\u001b[0;31m \u001b[0mvalidation_df\u001b[0m\u001b[0;34m[\u001b[0m\u001b[0;36m0\u001b[0m\u001b[0;34m]\u001b[0m\u001b[0;34m\u001b[0m\u001b[0;34m\u001b[0m\u001b[0m\n\u001b[0m",
      "\u001b[0;32m/usr/local/lib/python3.7/dist-packages/pandas/core/frame.py\u001b[0m in \u001b[0;36m__getitem__\u001b[0;34m(self, key)\u001b[0m\n\u001b[1;32m   3456\u001b[0m             \u001b[0;32mif\u001b[0m \u001b[0mself\u001b[0m\u001b[0;34m.\u001b[0m\u001b[0mcolumns\u001b[0m\u001b[0;34m.\u001b[0m\u001b[0mnlevels\u001b[0m \u001b[0;34m>\u001b[0m \u001b[0;36m1\u001b[0m\u001b[0;34m:\u001b[0m\u001b[0;34m\u001b[0m\u001b[0;34m\u001b[0m\u001b[0m\n\u001b[1;32m   3457\u001b[0m                 \u001b[0;32mreturn\u001b[0m \u001b[0mself\u001b[0m\u001b[0;34m.\u001b[0m\u001b[0m_getitem_multilevel\u001b[0m\u001b[0;34m(\u001b[0m\u001b[0mkey\u001b[0m\u001b[0;34m)\u001b[0m\u001b[0;34m\u001b[0m\u001b[0;34m\u001b[0m\u001b[0m\n\u001b[0;32m-> 3458\u001b[0;31m             \u001b[0mindexer\u001b[0m \u001b[0;34m=\u001b[0m \u001b[0mself\u001b[0m\u001b[0;34m.\u001b[0m\u001b[0mcolumns\u001b[0m\u001b[0;34m.\u001b[0m\u001b[0mget_loc\u001b[0m\u001b[0;34m(\u001b[0m\u001b[0mkey\u001b[0m\u001b[0;34m)\u001b[0m\u001b[0;34m\u001b[0m\u001b[0;34m\u001b[0m\u001b[0m\n\u001b[0m\u001b[1;32m   3459\u001b[0m             \u001b[0;32mif\u001b[0m \u001b[0mis_integer\u001b[0m\u001b[0;34m(\u001b[0m\u001b[0mindexer\u001b[0m\u001b[0;34m)\u001b[0m\u001b[0;34m:\u001b[0m\u001b[0;34m\u001b[0m\u001b[0;34m\u001b[0m\u001b[0m\n\u001b[1;32m   3460\u001b[0m                 \u001b[0mindexer\u001b[0m \u001b[0;34m=\u001b[0m \u001b[0;34m[\u001b[0m\u001b[0mindexer\u001b[0m\u001b[0;34m]\u001b[0m\u001b[0;34m\u001b[0m\u001b[0;34m\u001b[0m\u001b[0m\n",
      "\u001b[0;32m/usr/local/lib/python3.7/dist-packages/pandas/core/indexes/base.py\u001b[0m in \u001b[0;36mget_loc\u001b[0;34m(self, key, method, tolerance)\u001b[0m\n\u001b[1;32m   3361\u001b[0m                 \u001b[0;32mreturn\u001b[0m \u001b[0mself\u001b[0m\u001b[0;34m.\u001b[0m\u001b[0m_engine\u001b[0m\u001b[0;34m.\u001b[0m\u001b[0mget_loc\u001b[0m\u001b[0;34m(\u001b[0m\u001b[0mcasted_key\u001b[0m\u001b[0;34m)\u001b[0m\u001b[0;34m\u001b[0m\u001b[0;34m\u001b[0m\u001b[0m\n\u001b[1;32m   3362\u001b[0m             \u001b[0;32mexcept\u001b[0m \u001b[0mKeyError\u001b[0m \u001b[0;32mas\u001b[0m \u001b[0merr\u001b[0m\u001b[0;34m:\u001b[0m\u001b[0;34m\u001b[0m\u001b[0;34m\u001b[0m\u001b[0m\n\u001b[0;32m-> 3363\u001b[0;31m                 \u001b[0;32mraise\u001b[0m \u001b[0mKeyError\u001b[0m\u001b[0;34m(\u001b[0m\u001b[0mkey\u001b[0m\u001b[0;34m)\u001b[0m \u001b[0;32mfrom\u001b[0m \u001b[0merr\u001b[0m\u001b[0;34m\u001b[0m\u001b[0;34m\u001b[0m\u001b[0m\n\u001b[0m\u001b[1;32m   3364\u001b[0m \u001b[0;34m\u001b[0m\u001b[0m\n\u001b[1;32m   3365\u001b[0m         \u001b[0;32mif\u001b[0m \u001b[0mis_scalar\u001b[0m\u001b[0;34m(\u001b[0m\u001b[0mkey\u001b[0m\u001b[0;34m)\u001b[0m \u001b[0;32mand\u001b[0m \u001b[0misna\u001b[0m\u001b[0;34m(\u001b[0m\u001b[0mkey\u001b[0m\u001b[0;34m)\u001b[0m \u001b[0;32mand\u001b[0m \u001b[0;32mnot\u001b[0m \u001b[0mself\u001b[0m\u001b[0;34m.\u001b[0m\u001b[0mhasnans\u001b[0m\u001b[0;34m:\u001b[0m\u001b[0;34m\u001b[0m\u001b[0;34m\u001b[0m\u001b[0m\n",
      "\u001b[0;31mKeyError\u001b[0m: 0"
     ]
    }
   ],
   "source": [
    "validation_df[0]"
   ]
  },
  {
   "cell_type": "code",
   "execution_count": null,
   "metadata": {
    "colab": {
     "base_uri": "https://localhost:8080/",
     "height": 467
    },
    "id": "BCjmRbuclzAd",
    "outputId": "0d5b946e-777a-4a92-d53f-46e9bd1bacee"
   },
   "outputs": [
    {
     "name": "stdout",
     "output_type": "stream",
     "text": [
      "Fifth Third Online #509: Your Account has been locked for security reasons. Click the link lanza.me/fA2 to complete the Identity verification Process. \n",
      "fifth third online 509 your account locked security reason click link lanzamefa2 complete identity verification process\n"
     ]
    },
    {
     "ename": "ValueError",
     "evalue": "ignored",
     "output_type": "error",
     "traceback": [
      "\u001b[0;31m---------------------------------------------------------------------------\u001b[0m",
      "\u001b[0;31mKeyError\u001b[0m                                  Traceback (most recent call last)",
      "\u001b[0;32m/usr/local/lib/python3.7/dist-packages/sklearn/utils/_encode.py\u001b[0m in \u001b[0;36m_encode\u001b[0;34m(values, uniques, check_unknown)\u001b[0m\n\u001b[1;32m    181\u001b[0m         \u001b[0;32mtry\u001b[0m\u001b[0;34m:\u001b[0m\u001b[0;34m\u001b[0m\u001b[0;34m\u001b[0m\u001b[0m\n\u001b[0;32m--> 182\u001b[0;31m             \u001b[0;32mreturn\u001b[0m \u001b[0m_map_to_integer\u001b[0m\u001b[0;34m(\u001b[0m\u001b[0mvalues\u001b[0m\u001b[0;34m,\u001b[0m \u001b[0muniques\u001b[0m\u001b[0;34m)\u001b[0m\u001b[0;34m\u001b[0m\u001b[0;34m\u001b[0m\u001b[0m\n\u001b[0m\u001b[1;32m    183\u001b[0m         \u001b[0;32mexcept\u001b[0m \u001b[0mKeyError\u001b[0m \u001b[0;32mas\u001b[0m \u001b[0me\u001b[0m\u001b[0;34m:\u001b[0m\u001b[0;34m\u001b[0m\u001b[0;34m\u001b[0m\u001b[0m\n",
      "\u001b[0;32m/usr/local/lib/python3.7/dist-packages/sklearn/utils/_encode.py\u001b[0m in \u001b[0;36m_map_to_integer\u001b[0;34m(values, uniques)\u001b[0m\n\u001b[1;32m    125\u001b[0m     \u001b[0mtable\u001b[0m \u001b[0;34m=\u001b[0m \u001b[0m_nandict\u001b[0m\u001b[0;34m(\u001b[0m\u001b[0;34m{\u001b[0m\u001b[0mval\u001b[0m\u001b[0;34m:\u001b[0m \u001b[0mi\u001b[0m \u001b[0;32mfor\u001b[0m \u001b[0mi\u001b[0m\u001b[0;34m,\u001b[0m \u001b[0mval\u001b[0m \u001b[0;32min\u001b[0m \u001b[0menumerate\u001b[0m\u001b[0;34m(\u001b[0m\u001b[0muniques\u001b[0m\u001b[0;34m)\u001b[0m\u001b[0;34m}\u001b[0m\u001b[0;34m)\u001b[0m\u001b[0;34m\u001b[0m\u001b[0;34m\u001b[0m\u001b[0m\n\u001b[0;32m--> 126\u001b[0;31m     \u001b[0;32mreturn\u001b[0m \u001b[0mnp\u001b[0m\u001b[0;34m.\u001b[0m\u001b[0marray\u001b[0m\u001b[0;34m(\u001b[0m\u001b[0;34m[\u001b[0m\u001b[0mtable\u001b[0m\u001b[0;34m[\u001b[0m\u001b[0mv\u001b[0m\u001b[0;34m]\u001b[0m \u001b[0;32mfor\u001b[0m \u001b[0mv\u001b[0m \u001b[0;32min\u001b[0m \u001b[0mvalues\u001b[0m\u001b[0;34m]\u001b[0m\u001b[0;34m)\u001b[0m\u001b[0;34m\u001b[0m\u001b[0;34m\u001b[0m\u001b[0m\n\u001b[0m\u001b[1;32m    127\u001b[0m \u001b[0;34m\u001b[0m\u001b[0m\n",
      "\u001b[0;32m/usr/local/lib/python3.7/dist-packages/sklearn/utils/_encode.py\u001b[0m in \u001b[0;36m<listcomp>\u001b[0;34m(.0)\u001b[0m\n\u001b[1;32m    125\u001b[0m     \u001b[0mtable\u001b[0m \u001b[0;34m=\u001b[0m \u001b[0m_nandict\u001b[0m\u001b[0;34m(\u001b[0m\u001b[0;34m{\u001b[0m\u001b[0mval\u001b[0m\u001b[0;34m:\u001b[0m \u001b[0mi\u001b[0m \u001b[0;32mfor\u001b[0m \u001b[0mi\u001b[0m\u001b[0;34m,\u001b[0m \u001b[0mval\u001b[0m \u001b[0;32min\u001b[0m \u001b[0menumerate\u001b[0m\u001b[0;34m(\u001b[0m\u001b[0muniques\u001b[0m\u001b[0;34m)\u001b[0m\u001b[0;34m}\u001b[0m\u001b[0;34m)\u001b[0m\u001b[0;34m\u001b[0m\u001b[0;34m\u001b[0m\u001b[0m\n\u001b[0;32m--> 126\u001b[0;31m     \u001b[0;32mreturn\u001b[0m \u001b[0mnp\u001b[0m\u001b[0;34m.\u001b[0m\u001b[0marray\u001b[0m\u001b[0;34m(\u001b[0m\u001b[0;34m[\u001b[0m\u001b[0mtable\u001b[0m\u001b[0;34m[\u001b[0m\u001b[0mv\u001b[0m\u001b[0;34m]\u001b[0m \u001b[0;32mfor\u001b[0m \u001b[0mv\u001b[0m \u001b[0;32min\u001b[0m \u001b[0mvalues\u001b[0m\u001b[0;34m]\u001b[0m\u001b[0;34m)\u001b[0m\u001b[0;34m\u001b[0m\u001b[0;34m\u001b[0m\u001b[0m\n\u001b[0m\u001b[1;32m    127\u001b[0m \u001b[0;34m\u001b[0m\u001b[0m\n",
      "\u001b[0;32m/usr/local/lib/python3.7/dist-packages/sklearn/utils/_encode.py\u001b[0m in \u001b[0;36m__missing__\u001b[0;34m(self, key)\u001b[0m\n\u001b[1;32m    119\u001b[0m             \u001b[0;32mreturn\u001b[0m \u001b[0mself\u001b[0m\u001b[0;34m.\u001b[0m\u001b[0mnan_value\u001b[0m\u001b[0;34m\u001b[0m\u001b[0;34m\u001b[0m\u001b[0m\n\u001b[0;32m--> 120\u001b[0;31m         \u001b[0;32mraise\u001b[0m \u001b[0mKeyError\u001b[0m\u001b[0;34m(\u001b[0m\u001b[0mkey\u001b[0m\u001b[0;34m)\u001b[0m\u001b[0;34m\u001b[0m\u001b[0;34m\u001b[0m\u001b[0m\n\u001b[0m\u001b[1;32m    121\u001b[0m \u001b[0;34m\u001b[0m\u001b[0m\n",
      "\u001b[0;31mKeyError\u001b[0m: 'fifth third online 509 your account locked security reason click link lanzamefa2 complete identity verification process'",
      "\nDuring handling of the above exception, another exception occurred:\n",
      "\u001b[0;31mValueError\u001b[0m                                Traceback (most recent call last)",
      "\u001b[0;32m<ipython-input-61-a9e827181465>\u001b[0m in \u001b[0;36m<module>\u001b[0;34m()\u001b[0m\n\u001b[0;32m----> 1\u001b[0;31m \u001b[0mvisualize_results\u001b[0m\u001b[0;34m(\u001b[0m\u001b[0mvalidation_df\u001b[0m\u001b[0;34m,\u001b[0m\u001b[0mindividual_results\u001b[0m\u001b[0;34m)\u001b[0m\u001b[0;34m\u001b[0m\u001b[0;34m\u001b[0m\u001b[0m\n\u001b[0m",
      "\u001b[0;32m<ipython-input-60-4eb2a4dca2bf>\u001b[0m in \u001b[0;36mvisualize_results\u001b[0;34m(validation_df, individual_results)\u001b[0m\n\u001b[1;32m      8\u001b[0m     \u001b[0mpreprocessed_output\u001b[0m \u001b[0;34m=\u001b[0m \u001b[0mpreprocessing\u001b[0m\u001b[0;34m(\u001b[0m\u001b[0mdf\u001b[0m\u001b[0;34m)\u001b[0m\u001b[0;34m\u001b[0m\u001b[0;34m\u001b[0m\u001b[0m\n\u001b[1;32m      9\u001b[0m     \u001b[0mprint\u001b[0m\u001b[0;34m(\u001b[0m\u001b[0mpreprocessed_output\u001b[0m\u001b[0;34m)\u001b[0m\u001b[0;34m\u001b[0m\u001b[0;34m\u001b[0m\u001b[0m\n\u001b[0;32m---> 10\u001b[0;31m     \u001b[0mvectorized_output\u001b[0m \u001b[0;34m=\u001b[0m \u001b[0mfeature_extract\u001b[0m\u001b[0;34m(\u001b[0m\u001b[0mvector_model\u001b[0m\u001b[0;34m,\u001b[0m\u001b[0mpreprocessed_output\u001b[0m\u001b[0;34m)\u001b[0m\u001b[0;34m\u001b[0m\u001b[0;34m\u001b[0m\u001b[0m\n\u001b[0m\u001b[1;32m     11\u001b[0m     \u001b[0mprint\u001b[0m\u001b[0;34m(\u001b[0m\u001b[0mvectorized_output\u001b[0m\u001b[0;34m)\u001b[0m\u001b[0;34m\u001b[0m\u001b[0;34m\u001b[0m\u001b[0m\n\u001b[1;32m     12\u001b[0m     \u001b[0mval_score_test\u001b[0m \u001b[0;34m=\u001b[0m \u001b[0mmodel\u001b[0m\u001b[0;34m.\u001b[0m\u001b[0mpredict_proba\u001b[0m\u001b[0;34m(\u001b[0m\u001b[0mpreprocessed_output\u001b[0m\u001b[0;34m[\u001b[0m\u001b[0mvectorized_output\u001b[0m\u001b[0;34m]\u001b[0m\u001b[0;34m)\u001b[0m\u001b[0;34m\u001b[0m\u001b[0;34m\u001b[0m\u001b[0m\n",
      "\u001b[0;32m<ipython-input-52-6343013d20cd>\u001b[0m in \u001b[0;36mfeature_extract\u001b[0;34m(vector_model, cleaned_text)\u001b[0m\n\u001b[1;32m     51\u001b[0m     \"\"\"\n\u001b[1;32m     52\u001b[0m \u001b[0;34m\u001b[0m\u001b[0m\n\u001b[0;32m---> 53\u001b[0;31m     \u001b[0mvectorized_output\u001b[0m \u001b[0;34m=\u001b[0m \u001b[0mvector_model\u001b[0m\u001b[0;34m.\u001b[0m\u001b[0mtransform\u001b[0m\u001b[0;34m(\u001b[0m\u001b[0;34m[\u001b[0m\u001b[0mcleaned_text\u001b[0m\u001b[0;34m]\u001b[0m\u001b[0;34m)\u001b[0m\u001b[0;34m\u001b[0m\u001b[0;34m\u001b[0m\u001b[0m\n\u001b[0m\u001b[1;32m     54\u001b[0m     \u001b[0mvectorized_output\u001b[0m \u001b[0;34m=\u001b[0m \u001b[0mvectorized_output\u001b[0m\u001b[0;34m.\u001b[0m\u001b[0mtoarray\u001b[0m\u001b[0;34m(\u001b[0m\u001b[0;34m)\u001b[0m\u001b[0;34m\u001b[0m\u001b[0;34m\u001b[0m\u001b[0m\n\u001b[1;32m     55\u001b[0m     \u001b[0;32mreturn\u001b[0m \u001b[0mvectorized_output\u001b[0m\u001b[0;34m\u001b[0m\u001b[0;34m\u001b[0m\u001b[0m\n",
      "\u001b[0;32m/usr/local/lib/python3.7/dist-packages/sklearn/preprocessing/_label.py\u001b[0m in \u001b[0;36mtransform\u001b[0;34m(self, y)\u001b[0m\n\u001b[1;32m    136\u001b[0m             \u001b[0;32mreturn\u001b[0m \u001b[0mnp\u001b[0m\u001b[0;34m.\u001b[0m\u001b[0marray\u001b[0m\u001b[0;34m(\u001b[0m\u001b[0;34m[\u001b[0m\u001b[0;34m]\u001b[0m\u001b[0;34m)\u001b[0m\u001b[0;34m\u001b[0m\u001b[0;34m\u001b[0m\u001b[0m\n\u001b[1;32m    137\u001b[0m \u001b[0;34m\u001b[0m\u001b[0m\n\u001b[0;32m--> 138\u001b[0;31m         \u001b[0;32mreturn\u001b[0m \u001b[0m_encode\u001b[0m\u001b[0;34m(\u001b[0m\u001b[0my\u001b[0m\u001b[0;34m,\u001b[0m \u001b[0muniques\u001b[0m\u001b[0;34m=\u001b[0m\u001b[0mself\u001b[0m\u001b[0;34m.\u001b[0m\u001b[0mclasses_\u001b[0m\u001b[0;34m)\u001b[0m\u001b[0;34m\u001b[0m\u001b[0;34m\u001b[0m\u001b[0m\n\u001b[0m\u001b[1;32m    139\u001b[0m \u001b[0;34m\u001b[0m\u001b[0m\n\u001b[1;32m    140\u001b[0m     \u001b[0;32mdef\u001b[0m \u001b[0minverse_transform\u001b[0m\u001b[0;34m(\u001b[0m\u001b[0mself\u001b[0m\u001b[0;34m,\u001b[0m \u001b[0my\u001b[0m\u001b[0;34m)\u001b[0m\u001b[0;34m:\u001b[0m\u001b[0;34m\u001b[0m\u001b[0;34m\u001b[0m\u001b[0m\n",
      "\u001b[0;32m/usr/local/lib/python3.7/dist-packages/sklearn/utils/_encode.py\u001b[0m in \u001b[0;36m_encode\u001b[0;34m(values, uniques, check_unknown)\u001b[0m\n\u001b[1;32m    182\u001b[0m             \u001b[0;32mreturn\u001b[0m \u001b[0m_map_to_integer\u001b[0m\u001b[0;34m(\u001b[0m\u001b[0mvalues\u001b[0m\u001b[0;34m,\u001b[0m \u001b[0muniques\u001b[0m\u001b[0;34m)\u001b[0m\u001b[0;34m\u001b[0m\u001b[0;34m\u001b[0m\u001b[0m\n\u001b[1;32m    183\u001b[0m         \u001b[0;32mexcept\u001b[0m \u001b[0mKeyError\u001b[0m \u001b[0;32mas\u001b[0m \u001b[0me\u001b[0m\u001b[0;34m:\u001b[0m\u001b[0;34m\u001b[0m\u001b[0;34m\u001b[0m\u001b[0m\n\u001b[0;32m--> 184\u001b[0;31m             \u001b[0;32mraise\u001b[0m \u001b[0mValueError\u001b[0m\u001b[0;34m(\u001b[0m\u001b[0;34mf\"y contains previously unseen labels: {str(e)}\"\u001b[0m\u001b[0;34m)\u001b[0m\u001b[0;34m\u001b[0m\u001b[0;34m\u001b[0m\u001b[0m\n\u001b[0m\u001b[1;32m    185\u001b[0m     \u001b[0;32melse\u001b[0m\u001b[0;34m:\u001b[0m\u001b[0;34m\u001b[0m\u001b[0;34m\u001b[0m\u001b[0m\n\u001b[1;32m    186\u001b[0m         \u001b[0;32mif\u001b[0m \u001b[0mcheck_unknown\u001b[0m\u001b[0;34m:\u001b[0m\u001b[0;34m\u001b[0m\u001b[0;34m\u001b[0m\u001b[0m\n",
      "\u001b[0;31mValueError\u001b[0m: y contains previously unseen labels: 'fifth third online 509 your account locked security reason click link lanzamefa2 complete identity verification process'"
     ]
    }
   ],
   "source": [
    "visualize_results(validation_df,individual_results)"
   ]
  },
  {
   "cell_type": "code",
   "execution_count": null,
   "metadata": {
    "id": "g5ysMZrAl3jm"
   },
   "outputs": [],
   "source": [
    "validation_df=[[\"preview\"]]"
   ]
  },
  {
   "cell_type": "code",
   "execution_count": null,
   "metadata": {
    "colab": {
     "base_uri": "https://localhost:8080/"
    },
    "id": "dwDi3RElmW0n",
    "outputId": "60c5c8c7-bc59-43df-f24c-790241e32589"
   },
   "outputs": [
    {
     "data": {
      "text/plain": [
       "list"
      ]
     },
     "execution_count": 18,
     "metadata": {},
     "output_type": "execute_result"
    }
   ],
   "source": [
    "type(validation_df)"
   ]
  },
  {
   "cell_type": "code",
   "execution_count": null,
   "metadata": {
    "colab": {
     "base_uri": "https://localhost:8080/"
    },
    "id": "vgbFbZfIme6n",
    "outputId": "0030737e-a9ef-445b-a74b-ccf7c420740e"
   },
   "outputs": [
    {
     "data": {
      "text/plain": [
       "array(['OTHER', 'Phishing'], dtype=object)"
      ]
     },
     "execution_count": 56,
     "metadata": {},
     "output_type": "execute_result"
    }
   ],
   "source": [
    "np.unique(validation_df.domain)"
   ]
  },
  {
   "cell_type": "code",
   "execution_count": null,
   "metadata": {
    "id": "vvOY4n32qfJB"
   },
   "outputs": [],
   "source": []
  }
 ],
 "metadata": {
  "colab": {
   "collapsed_sections": [],
   "name": "FINALNOTEBOOKFORMESSAGECLASSIFICATION.ipynb",
   "provenance": []
  },
  "kernelspec": {
   "display_name": "Python 3 (ipykernel)",
   "language": "python",
   "name": "python3"
  },
  "language_info": {
   "codemirror_mode": {
    "name": "ipython",
    "version": 3
   },
   "file_extension": ".py",
   "mimetype": "text/x-python",
   "name": "python",
   "nbconvert_exporter": "python",
   "pygments_lexer": "ipython3",
   "version": "3.7.12"
  }
 },
 "nbformat": 4,
 "nbformat_minor": 1
}
