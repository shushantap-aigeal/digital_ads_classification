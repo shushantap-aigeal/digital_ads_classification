{
 "cells": [
  {
   "cell_type": "markdown",
   "metadata": {
    "id": "zGRqKelgmREq"
   },
   "source": [
    "## All Necessary imports"
   ]
  },
  {
   "cell_type": "code",
   "execution_count": null,
   "metadata": {
    "colab": {
     "base_uri": "https://localhost:8080/"
    },
    "id": "HBk_wy9Mba5K",
    "outputId": "2abc3810-7c81-491a-ff34-9915a97fd77f"
   },
   "outputs": [
    {
     "name": "stdout",
     "output_type": "stream",
     "text": [
      "Looking in indexes: https://pypi.org/simple, https://us-python.pkg.dev/colab-wheels/public/simple/\n",
      "Collecting fasttext\n",
      "  Downloading fasttext-0.9.2.tar.gz (68 kB)\n",
      "\u001b[K     |████████████████████████████████| 68 kB 2.0 MB/s \n",
      "\u001b[?25hCollecting pybind11>=2.2\n",
      "  Using cached pybind11-2.9.2-py2.py3-none-any.whl (213 kB)\n",
      "Requirement already satisfied: setuptools>=0.7.0 in /usr/local/lib/python3.7/dist-packages (from fasttext) (57.4.0)\n",
      "Requirement already satisfied: numpy in /usr/local/lib/python3.7/dist-packages (from fasttext) (1.21.6)\n",
      "Building wheels for collected packages: fasttext\n",
      "  Building wheel for fasttext (setup.py) ... \u001b[?25l\u001b[?25hdone\n",
      "  Created wheel for fasttext: filename=fasttext-0.9.2-cp37-cp37m-linux_x86_64.whl size=3140468 sha256=3131efe79c47cd0a685bcf16a54c71ef0952dd5db77095065fbcdd9314f7eb26\n",
      "  Stored in directory: /root/.cache/pip/wheels/4e/ca/bf/b020d2be95f7641801a6597a29c8f4f19e38f9c02a345bab9b\n",
      "Successfully built fasttext\n",
      "Installing collected packages: pybind11, fasttext\n",
      "Successfully installed fasttext-0.9.2 pybind11-2.9.2\n"
     ]
    },
    {
     "name": "stderr",
     "output_type": "stream",
     "text": [
      "[nltk_data] Downloading package punkt to /root/nltk_data...\n",
      "[nltk_data]   Unzipping tokenizers/punkt.zip.\n",
      "[nltk_data] Downloading package stopwords to /root/nltk_data...\n",
      "[nltk_data]   Unzipping corpora/stopwords.zip.\n",
      "[nltk_data] Downloading package punkt to /root/nltk_data...\n",
      "[nltk_data]   Package punkt is already up-to-date!\n",
      "[nltk_data] Downloading package wordnet to /root/nltk_data...\n"
     ]
    }
   ],
   "source": [
    "! pip install fasttext\n",
    "import pandas as pd\n",
    "import numpy as np\n",
    "import matplotlib.pyplot as plt\n",
    "import plotly.express as px\n",
    "import fasttext\n",
    "import nltk\n",
    "import re\n",
    "import seaborn as sns\n",
    "from nltk.corpus import stopwords\n",
    "from nltk.stem import PorterStemmer\n",
    "from imblearn.over_sampling import SMOTE \n",
    "\n",
    "from sklearn.preprocessing import LabelEncoder\n",
    "\n",
    "from sklearn.model_selection import train_test_split\n",
    "from sklearn.model_selection import GridSearchCV, RandomizedSearchCV\n",
    "%matplotlib inline\n",
    "\n",
    "\n",
    "from sklearn.feature_extraction.text import CountVectorizer,TfidfVectorizer\n",
    "from sklearn.metrics import plot_confusion_matrix\n",
    "from sklearn.model_selection import train_test_split\n",
    "from sklearn.metrics import recall_score, precision_score\n",
    "from imblearn.under_sampling import RandomUnderSampler\n",
    "\n",
    "\n",
    "from nltk.stem import PorterStemmer, WordNetLemmatizer\n",
    "lemmatizer = WordNetLemmatizer()\n",
    "\n",
    "import warnings\n",
    "from sklearn.linear_model import LogisticRegression\n",
    "from sklearn.naive_bayes import MultinomialNB\n",
    "from sklearn.tree import DecisionTreeClassifier\n",
    "from sklearn.neighbors import KNeighborsClassifier\n",
    "from sklearn.ensemble import RandomForestClassifier\n",
    "from sklearn.ensemble import AdaBoostClassifier\n",
    "from sklearn.decomposition import TruncatedSVD\n",
    "\n",
    "from sklearn.ensemble import GradientBoostingClassifier\n",
    "from xgboost import XGBClassifier\n",
    "\n",
    "from nltk.tokenize import word_tokenize\n",
    "from nltk.corpus import wordnet, stopwords \n",
    "from nltk.tokenize import word_tokenize\n",
    "from sklearn.metrics import f1_score,accuracy_score\n",
    "import pickle \n",
    "\n",
    "nltk.download('punkt')\n",
    "nltk.download('stopwords')\n",
    "nltk.download('punkt')\n",
    "stop = stopwords.words('english')\n",
    "nltk.download('wordnet')\n",
    "from sklearn.metrics import classification_report\n",
    "\n",
    "from sklearn.multiclass import OneVsRestClassifier\n",
    "\n"
   ]
  },
  {
   "cell_type": "markdown",
   "metadata": {
    "id": "bBJkS-Tfbq5b"
   },
   "source": [
    "DATA PREPROCESSING/ CLEANING "
   ]
  },
  {
   "cell_type": "markdown",
   "metadata": {
    "id": "BvoaN32VbwPK"
   },
   "source": [
    "# CLASSIFIER \n",
    "## RANDOM FOREST"
   ]
  },
  {
   "cell_type": "code",
   "execution_count": null,
   "metadata": {
    "id": "nkj5SDr2bvZp"
   },
   "outputs": [],
   "source": [
    "def train_rf(X_train, y_train, X_test, y_test):  \n",
    "    print(\"----------RANDOM FOREST-----------\")\n",
    "    clf = RandomForestClassifier(random_state=5)\n",
    "    parameters = {'n_estimators': [10,20,30,40,50,60,70,80,90,100], 'max_depth': [4,5,6,7,8], 'criterion': ['gini', 'entropy'], 'max_features': ['sqrt', 'log2']}\n",
    "\n",
    "    cv_combined = GridSearchCV(estimator=clf, param_grid=parameters, cv=5)\n",
    "    orc_clf = OneVsRestClassifier(estimator=cv_combined).fit(X_train, y_train)\n",
    "    orc_clf.fit(X_train, y_train)\n",
    "\n",
    "    y_pred = orc_clf.predict(X_test)\n",
    "    print(\"F1 score is \",f1_score(y_test, y_pred, average='weighted'))\n",
    "\n",
    "    # save the model\n",
    "    filename = 'finalized_model_RF.sav'\n",
    "    pickle.dump(orc_clf, open(filename, 'wb'))\n",
    "\n",
    "    # create train and test reports\n",
    "    print(\"-----------------------TEST SET REPORT FOR RANDOM FOREST---------------------------------------------\")\n",
    "    print(classification_report(y_test, y_pred,target_names=[\"Banking\",\"Jobs-IT\",\"Rent-Apartment\",\"Retail\",\"Sell-House\"]))\n",
    "    print(\"-----------------------TRAIN SET REPORT FOR RANDOM FOREST --------------------------------------------\")\n",
    "    print(classification_report(y_train, orc_clf.predict(X_train),target_names=[\"Banking\",\"Jobs-IT\",\"Rent-Apartment\",\"Retail\",\"Sell-House\"]))\n",
    "    \n",
    "    #create confusion matrix  for train and test set\n",
    "    fig, axes = plt.subplots(nrows=1, ncols=2, figsize=(10,10))\n",
    "    plt.suptitle(\"XGB Classifier\", fontsize=14)\n",
    "    axes[0].title.set_text('Confusion Matrix (For Test Set)')\n",
    "    plot_confusion_matrix(orc_clf, X_test, y_test, cmap=plt.cm.RdPu, ax=axes[0])\n",
    "    axes[1].title.set_text('Confusion Matrix (For Train Set)')\n",
    "    plot_confusion_matrix(orc_clf, X_train ,y_train,cmap=plt.cm.RdPu, ax=axes[1])\n",
    "    return {\n",
    "        \"f1_score\": f1_score(y_test, y_pred, average='weighted'),\n",
    "        \"test_score\" : accuracy_score(y_test, y_pred),\n",
    "        \"model\" : orc_clf\n",
    "    }\n",
    "    "
   ]
  },
  {
   "cell_type": "markdown",
   "metadata": {
    "id": "yNgPypa7cRy4"
   },
   "source": [
    "# CLASSIFIER\n",
    "\n",
    "## Decision Tree"
   ]
  },
  {
   "cell_type": "code",
   "execution_count": null,
   "metadata": {
    "id": "rqYX0OyecWxI"
   },
   "outputs": [],
   "source": [
    "def train_dt(X_train, y_train, X_test, y_test):\n",
    "  \n",
    "    print(\"----------DECISION TREE-----------\")\n",
    "    clf = DecisionTreeClassifier(random_state=5)\n",
    "\n",
    "    parameters = {'max_depth': [4,5,6,7,8], 'criterion': ['gini', 'entropy'], 'max_features': ['sqrt', 'log2'], \n",
    "                     'min_samples_split': [2,6,10,14,18,22]}\n",
    "\n",
    "    cv_combined = GridSearchCV(estimator=clf, param_grid=parameters, cv=5, refit=True)\n",
    "    orc_clf = OneVsRestClassifier(estimator=cv_combined).fit(X_train, y_train)\n",
    "    orc_clf.fit(X_train, y_train)\n",
    "\n",
    "    pred_combined = orc_clf.predict(X_test)\n",
    "    y_pred = orc_clf.predict(X_test)\n",
    "    print(\"F1 score is \",f1_score(y_test, y_pred, average='weighted'))\n",
    "\n",
    "    # save the model \n",
    "    filename = 'finalized_model_DT.sav'\n",
    "    pickle.dump(orc_clf, open(filename, 'wb'))\n",
    "\n",
    "    # create train and test reports\n",
    "    print(\"-----------------------TEST SET REPORT FOR DECISION TREE ---------------------------------------------\")\n",
    "    print(classification_report(y_test, y_pred,target_names=[\"Banking\",\"Jobs-IT\",\"Rent-Apartment\",\"Retail\",\"Sell-House\"]))\n",
    "    print(\"-----------------------TRAIN SET REPORT FOR DECISION TREE--------------------------------------------\")\n",
    "    print(classification_report(y_train, orc_clf.predict(X_train),target_names=[\"Banking\",\"Jobs-IT\",\"Rent-Apartment\",\"Retail\",\"Sell-House\"]))\n",
    "\n",
    "    #create confusion matrix for train and test set\n",
    "    fig, axes = plt.subplots(nrows=1, ncols=2, figsize=(10,10))\n",
    "    plt.suptitle(\"Decision Tree Classifier\", fontsize=14)\n",
    "    axes[0].title.set_text('Confusion Matrix (For Test Set)')\n",
    "    plot_confusion_matrix(orc_clf, X_test, y_test, cmap=plt.cm.RdPu, ax=axes[0])\n",
    "    axes[1].title.set_text('Confusion Matrix (For Train Set)')\n",
    "    plot_confusion_matrix(orc_clf, X_train ,y_train,cmap=plt.cm.RdPu, ax=axes[1])\n",
    "    return {\n",
    "        \"f1_score\": f1_score(y_test, y_pred, average='weighted'),\n",
    "        \"test_score\" : accuracy_score(y_test, y_pred),\n",
    "        \"model\" : orc_clf\n",
    "    }\n",
    "    "
   ]
  },
  {
   "cell_type": "markdown",
   "metadata": {
    "id": "I0HGNl_70fmb"
   },
   "source": [
    "# CLassifier\n",
    "## XGBoost"
   ]
  },
  {
   "cell_type": "code",
   "execution_count": null,
   "metadata": {
    "id": "GxaaqpGU0c18"
   },
   "outputs": [],
   "source": [
    "\n",
    "def train_xgb(X_train, y_train, X_test, y_test):\n",
    "  \n",
    "    print(\"-----------------XGBOOST---------------------\")\n",
    "    clf = XGBClassifier(random_state=5)\n",
    "    parameters = {\n",
    "        'min_child_weight': [1, 5, 10],\n",
    "        'gamma': [0.5, 1, 1.5, 2, 5],\n",
    "        'subsample': [0.6, 0.8, 1.0],\n",
    "        'colsample_bytree': [0.6, 0.8, 1.0],\n",
    "        'max_features': ['sqrt', 'log2'],\n",
    "        'criterion': ['gini', 'entropy'],\n",
    "        'max_depth': [4,5,6,7,8]\n",
    "        }\n",
    "        \n",
    "    cv_combined = RandomizedSearchCV(estimator=clf, param_distributions=parameters, cv=5, refit=True)\n",
    "    orc_clf = OneVsRestClassifier(estimator=cv_combined).fit(X_train, y_train)\n",
    "    orc_clf.fit(X_train, y_train)\n",
    "    pred_combined = orc_clf.predict(X_test)\n",
    "    y_pred = orc_clf.predict(X_test)\n",
    "    print(\"F1 score is \", f1_score(y_test, y_pred, average='weighted'))\n",
    "\n",
    "    #save model \n",
    "    filename = 'finalized_model_XGB.sav'\n",
    "    pickle.dump(orc_clf, open(filename, 'wb'))\n",
    "\n",
    "    # create reports for train and test sets\n",
    "    print(\"-----------------------TEST SET REPORT FOR XGBOOST---------------------------------------------\")\n",
    "    print(classification_report(y_test, y_pred,target_names=[\"Banking\",\"Jobs-IT\",\"Rent-Apartment\",\"Retail\",\"Sell-House\"]))\n",
    "    \n",
    "    print(\"-----------------------TRAIN SET REPORT FOR XGBOOST--------------------------------------------\")\n",
    "    print(classification_report(y_train, orc_clf.predict(X_train),target_names=[\"Banking\",\"Jobs-IT\",\"Rent-Apartment\",\"Retail\",\"Sell-House\"]))\n",
    "    \n",
    "\n",
    "    #create confusion matrix \n",
    "    fig, axes = plt.subplots(nrows=1, ncols=2, figsize=(10,10))\n",
    "    plt.suptitle(\"XGB Classifier\", fontsize=14)\n",
    "    axes[0].title.set_text('Confusion Matrix (For Test Set)')\n",
    "    plot_confusion_matrix(orc_clf, X_test, y_test, cmap=plt.cm.RdPu, ax=axes[0])\n",
    "    axes[1].title.set_text('Confusion Matrix (For Train Set)')\n",
    "    plot_confusion_matrix(orc_clf, X_train ,y_train,cmap=plt.cm.RdPu, ax=axes[1])\n",
    "\n",
    "    return {\n",
    "        \"f1_score\": f1_score(y_test, y_pred, average='weighted'),\n",
    "        \"test_score\" : accuracy_score(y_test, y_pred),\n",
    "        \"model\" : orc_clf\n",
    "    }\n",
    "    "
   ]
  },
  {
   "cell_type": "markdown",
   "metadata": {
    "id": "HJcfS9_Ucb3P"
   },
   "source": [
    "## RESULT FORMAT "
   ]
  },
  {
   "cell_type": "code",
   "execution_count": null,
   "metadata": {
    "id": "9YDtacpFcfFy"
   },
   "outputs": [],
   "source": [
    "def create_log_dict(suffix, classifier, result, columns_to_drop):\n",
    "    row = {\"abg\": suffix,\n",
    "           \"classifier\": classifier,\n",
    "           \"params\": result[\"params\"],\n",
    "           \"f1_score\": result[\"f1_score\"],\n",
    "           \"train_score\": result[\"train_score\"],\n",
    "           \"test_score\": result[\"test_score\"],\n",
    "           \"dropped\": columns_to_drop[1:]\n",
    "          }\n",
    "    return row"
   ]
  },
  {
   "cell_type": "markdown",
   "metadata": {
    "id": "7K_JPdTkkmvu"
   },
   "source": [
    "## Function For Handling Categorical Variables "
   ]
  },
  {
   "cell_type": "code",
   "execution_count": null,
   "metadata": {
    "id": "i56kermKkkom"
   },
   "outputs": [],
   "source": [
    "#for handlling categorical variables for valid_df & train_df\n",
    "def handle_cat_var(df,label_encoder,dataset=None):\n",
    "  if dataset == \"train\":\n",
    "    print(\"------- For Training Set Label Encoding -------------- \")\n",
    "    df[\"JobType\"] = label_encoder.fit_transform(df['JobType'])\n",
    "    print(np.unique(df[\"JobType\"]))\n",
    "\n",
    "  if dataset == \"valid\":\n",
    "    print(\"------- For Validation Set Label Encoding -------------- \")\n",
    "    df[\"JobType\"] = label_encoder.transform(df['JobType'])\n",
    "  return df[\"JobType\"]   "
   ]
  },
  {
   "cell_type": "markdown",
   "metadata": {
    "id": "WJbi2Ek2cPgS"
   },
   "source": [
    "## Function for Vectorization"
   ]
  },
  {
   "cell_type": "code",
   "execution_count": null,
   "metadata": {
    "id": "6HEuzychcLCW"
   },
   "outputs": [],
   "source": [
    "#for vectorization of  valid_df & train_df\n",
    "def tfidf_vectorizer(df,vectorizer,dataset=None):\n",
    "  if dataset == \"train\":\n",
    "    print(\"------- For Training Set Vectorizer-------------- \")\n",
    "    X = vectorizer.fit_transform(df['Job_Description'])\n",
    "    X= X.toarray()\n",
    "    filename = 'vectorizer.sav'\n",
    "    pickle.dump(vectorizer, open(filename, 'wb'))\n",
    "  if dataset == \"valid\":\n",
    "    print(\"------- For Validation Set Vectorizer -------------- \")\n",
    "    X = vectorizer.transform(df['Job_Description'])\n",
    "    X= X.toarray()\n",
    "  return X "
   ]
  },
  {
   "cell_type": "markdown",
   "metadata": {
    "id": "BxAK6vFXabdz"
   },
   "source": [
    " ## Function for Different Models"
   ]
  },
  {
   "cell_type": "code",
   "execution_count": null,
   "metadata": {
    "id": "303Ja-u9ZB_J"
   },
   "outputs": [
    {
     "ename": "",
     "evalue": "",
     "output_type": "error",
     "traceback": [
      "\u001b[1;31mJupyter cannot be started. Error attempting to locate Jupyter: Running cells with 'Python 3.9.5 64-bit' requires jupyter and notebook package.\n",
      "Run the following command to install 'jupyter and notebook' into the Python environment. \n",
      "Command: 'python -m pip install jupyter notebook -U\n",
      "or\n",
      "conda install jupyter notebook -U'\n",
      "Click <a href='https://aka.ms/installJupyterForVSCode'>here</a> for more info."
     ]
    }
   ],
   "source": [
    "def call_model_instance():\n",
    "  svd = TruncatedSVD(n_components=5, random_state=42)\n",
    "  vectorizer = TfidfVectorizer(stop_words = 'english')\n",
    "  label_encoder = LabelEncoder()\n",
    "  sm = SMOTE(random_state=2)\n",
    "  return svd,vectorizer,label_encoder,sm\n",
    "\n"
   ]
  },
  {
   "cell_type": "code",
   "execution_count": null,
   "metadata": {
    "id": "9JJXL0xQXbBg"
   },
   "outputs": [],
   "source": [
    "def reduce_feature_size(df,svd,dataset=None):\n",
    "  if dataset == \"train\":\n",
    "    print(\"------- For Training Set Feature Reduction -------------- \")\n",
    "    data = svd.fit_transform(df)\n",
    "    filename = 'svd.sav'\n",
    "    pickle.dump(svd, open(filename, 'wb'))\n",
    "  if dataset == \"valid\":\n",
    "    print(\"------- For Validation Set Feature Reduction  -------------- \")\n",
    "    data = svd.transform(df) \n",
    "  return data "
   ]
  },
  {
   "cell_type": "markdown",
   "metadata": {
    "id": "awltiPWN3iai"
   },
   "source": [
    "## Preprocessing Module"
   ]
  },
  {
   "cell_type": "code",
   "execution_count": null,
   "metadata": {
    "id": "gdpabhShVfaq"
   },
   "outputs": [],
   "source": [
    "def preprocessing(df):\n",
    "\n",
    "    \"\"\"Removing articles and punctuation, and standardizing whitespace are all typical text processing steps.\n",
    "\n",
    "    Input : Raw unpreprocessed text \n",
    "\n",
    "    Output : Processed text removed html url stopwords blankspaces\n",
    "\n",
    "    \"\"\"\n",
    "\n",
    "    import string, re\n",
    "\n",
    "    # remove html \n",
    "\n",
    "    text = re.sub(r\"http\\S+\", \"\", df)\n",
    "    text = re.sub(r\"Http\\S+\", \"\", text)\n",
    "\n",
    "    #  lemmatization for the messages \n",
    "\n",
    "    text = nltk.word_tokenize(text)\n",
    "    # text = [lemmatizer.lemmatize(text) for text in text if not text in stopwords.words('english')]\n",
    "    #msgs = [stemmer.stem(msg) for msg in msgs if not msg in stopwords.words('english')]\n",
    "    text = \" \".join(text)\n",
    "\n",
    "    # lowercasing of strings \n",
    "    text = text.lower()\n",
    "\n",
    "    # removing the articles in the text\n",
    "    regex = re.compile(r\"\\b(a|an|the)\\b\", re.UNICODE)\n",
    "    text = re.sub(regex, \" \", text)\n",
    "\n",
    "    \n",
    "    # removing the punctuation \n",
    "    exclude = set(string.punctuation)\n",
    "    text = \"\".join(ch for ch in text if ch not in exclude)\n",
    "    \n",
    "    # removing the white spaces \n",
    "    text = \" \".join(text.split())\n",
    "\n",
    "    # stop_words = set(stopwords.words('english'))\n",
    "  \n",
    "    # word_tokens = word_tokenize(text)\n",
    "      \n",
    "    # filtered_sentence = [w for w in word_tokens if not w.lower() in stop_words]\n",
    "      \n",
    "    # filtered_sentence = []\n",
    "      \n",
    "    # for w in word_tokens:\n",
    "    #     if w not in stop_words:\n",
    "    #         filtered_sentence.append(w)\n",
    "\n",
    "    return text"
   ]
  },
  {
   "cell_type": "markdown",
   "metadata": {
    "id": "QHxzh6MVcpiN"
   },
   "source": [
    "# TRAIN MODELS"
   ]
  },
  {
   "cell_type": "markdown",
   "metadata": {
    "id": "tlwAz2Lym_y9"
   },
   "source": [
    "## Function to handle the data\n",
    "\n",
    "- Loads Data \n",
    "- Selects only the necessary columns or fields\n",
    "- Handles Categorical Variables\n",
    "- Feature Extraction for both datasets\n",
    "- Splits dataset into train test data "
   ]
  },
  {
   "cell_type": "code",
   "execution_count": null,
   "metadata": {
    "colab": {
     "base_uri": "https://localhost:8080/"
    },
    "id": "BVbvfwpIc2y3",
    "outputId": "a33a4248-60f1-401b-96cd-cdf968192078"
   },
   "outputs": [
    {
     "name": "stdout",
     "output_type": "stream",
     "text": [
      "------- For Training Set Label Encoding -------------- \n",
      "[0 1 2 3 4]\n",
      "------- For Training Set Vectorizer-------------- \n",
      "------- For Training Set Feature Reduction -------------- \n",
      "After Reducing, the feature size of train_X: (1204, 5)\n",
      "------- For Validation Set Feature Reduction  -------------- \n",
      "After Reducing, the feature size of test_X: (301, 5)\n"
     ]
    }
   ],
   "source": [
    "# load training dataset\n",
    "# load validation dataset\n",
    "\n",
    "filepath_for_trainset = \"/content/concatenated_data.csv\"\n",
    "\n",
    "\n",
    "def data_handling(filepath_for_trainset):\n",
    "\n",
    "  ''' \n",
    "  Input : filepath_for_trainset & filepath_for_validset,\n",
    "  Output : x_train, x_test, y_train, y_test, \n",
    "  Description: Takes in path for train and validation set provides data labelling\n",
    "  vectorizes the data  and splits the set into train test and validation set\n",
    "\n",
    "  '''\n",
    "\n",
    "  train_df = pd.read_csv(filepath_for_trainset)\n",
    "  train_df = train_df[['JobType','Job_Description']]\n",
    "  train_df.dropna(subset = ['Job_Description','JobType'],inplace=True)\n",
    "  train_df.drop(index=[3],inplace=True)\n",
    "  train_df_counts = (train_df.JobType.value_counts())\n",
    "  \n",
    "  \n",
    "\n",
    "  svd,vectorizer,label_encoder,sm = call_model_instance()\n",
    "  # labeling the two domains for train_df and validation_df \n",
    "  train_df_labels = handle_cat_var(train_df,label_encoder,dataset=\"train\")\n",
    "\n",
    "  # print(train_df_labels)\n",
    "  # print(train_df[train_df[train_df_labels.Job_Type == \"5\"]])\n",
    "  # vectorization of the two domains for train_df and validation_df \n",
    "  X_for_train_df = tfidf_vectorizer(train_df,vectorizer,dataset=\"train\")\n",
    "  \n",
    "  # splitting dataset into train test and split data\n",
    "  x_train, x_test, y_train, y_test = train_test_split(X_for_train_df, train_df_labels, test_size=0.2, random_state=434,stratify = train_df_labels)\n",
    "\n",
    "  \n",
    "  x_train = reduce_feature_size(x_train,svd,dataset=\"train\")\n",
    "  print('After Reducing, the feature size of train_X: {}'.format(x_train.shape))\n",
    "  x_test = reduce_feature_size(x_test,svd,dataset=\"valid\")\n",
    "  print('After Reducing, the feature size of test_X: {}'.format(x_test.shape))\n",
    "\n",
    "\n",
    "  data_handler= {\"train_df\":train_df , \"x_train\" : x_train, \"x_test\" : x_test, \"y_train\" : y_train, \"y_test\" : y_test}\n",
    "\n",
    "  return data_handler\n",
    "# run the datahandling function \n",
    "data_handler = data_handling(filepath_for_trainset)"
   ]
  },
  {
   "cell_type": "code",
   "execution_count": null,
   "metadata": {
    "id": "tgqmefIfROLl"
   },
   "outputs": [],
   "source": [
    "dataframe = pd.read_csv(\"/content/concatenated_data.csv\")"
   ]
  },
  {
   "cell_type": "code",
   "execution_count": null,
   "metadata": {
    "colab": {
     "base_uri": "https://localhost:8080/",
     "height": 157
    },
    "id": "OfqIyUXdRUgt",
    "outputId": "d4e035b3-777a-4cd0-9664-ada568086ba5"
   },
   "outputs": [
    {
     "data": {
      "application/vnd.google.colaboratory.intrinsic+json": {
       "type": "string"
      },
      "text/plain": [
       "'modelservers we re currently looking to hire fun energized and dedicated modelservers to join our team make avg of 300 to 500 per shift in cash if your interested in working with us and believe that you d be strong asset to our club we ll train you to have knowledge of beverages and food service will be expected to serve guests in timely manner with great attitude if your wanting job that leads to better job like bartender or door hostess please stop by from 11am to 11pm ask for manager or apply online must be 21 and up to apply must be available weekends entertainers dancers new entertainers make average of 800 to 2000 per day make money anytime or as many hours as you want whether it be one day week or five you make your own hours to fit your busy life we re flexible with any hours you needs must be outgoing friendly no experience necessary we train on buddy system here so all new entertainers are paired with mentor just stop by for tour of club also hiring for barbacks floorman doorman apply in person between hours of 11am11pm for tour of club ask for dance manager 10601 plano rd dallas tx 752382143416643 garland richardson mesquite east dallas plano allan mckinney longview tyler wylie sashse rowlett rockwall tyler sherman gentlemans club strip club sports bar bar stripclub'"
      ]
     },
     "execution_count": 111,
     "metadata": {},
     "output_type": "execute_result"
    }
   ],
   "source": [
    "dataframe.Job_Description[2]"
   ]
  },
  {
   "cell_type": "markdown",
   "metadata": {
    "id": "0KBYMZpbvUB1"
   },
   "source": [
    "### Train a  Model"
   ]
  },
  {
   "cell_type": "code",
   "execution_count": null,
   "metadata": {
    "id": "eJT168suuxKt"
   },
   "outputs": [],
   "source": [
    "\n",
    "def model_train(model_name=None):\n",
    "  ''' \n",
    "  Input : modelname,\n",
    "  Output : x_train, x_test, y_train, y_test, \n",
    "  Description: Takes in name of model for training and gives\n",
    "  out the data\n",
    "  '''\n",
    "  if model_name == \"Random_Forest\":\n",
    "    output = train_rf(data_handler[\"x_train\"], data_handler[\"y_train\"], data_handler[\"x_test\"], data_handler[\"y_test\"])\n",
    "  elif model_name == \"Decision_Tree\":\n",
    "    output = train_dt(data_handler[\"x_train\"], data_handler[\"y_train\"], data_handler[\"x_test\"], data_handler[\"y_test\"])\n",
    "  elif  model_name == \"XGBOOST\":\n",
    "    output = train_xgb(data_handler[\"x_train\"], data_handler[\"y_train\"], data_handler[\"x_test\"], data_handler[\"y_test\"])\n",
    "\n",
    "  return output \n",
    "\n"
   ]
  },
  {
   "cell_type": "markdown",
   "metadata": {
    "id": "Ta_TQdB6vvdO"
   },
   "source": [
    "### Train a Random Forest Model "
   ]
  },
  {
   "cell_type": "code",
   "execution_count": null,
   "metadata": {
    "colab": {
     "base_uri": "https://localhost:8080/",
     "height": 1000
    },
    "id": "h5jmlcUzp5-8",
    "outputId": "ec83586b-1f76-421b-e5ea-085ef1617029"
   },
   "outputs": [
    {
     "name": "stdout",
     "output_type": "stream",
     "text": [
      "----------RANDOM FOREST-----------\n",
      "F1 score is  0.9362554297020023\n",
      "-----------------------TEST SET REPORT FOR RANDOM FOREST---------------------------------------------\n",
      "              precision    recall  f1-score   support\n",
      "\n",
      "           0       0.91      0.79      0.85        38\n",
      "           1       0.89      0.94      0.92        18\n",
      "           2       0.89      0.93      0.91        27\n",
      "           3       0.91      0.94      0.92        97\n",
      "           4       0.98      0.98      0.98       121\n",
      "\n",
      "    accuracy                           0.94       301\n",
      "   macro avg       0.92      0.92      0.92       301\n",
      "weighted avg       0.94      0.94      0.94       301\n",
      "\n",
      "-----------------------TRAIN SET REPORT FOR RANDOM FOREST --------------------------------------------\n",
      "              precision    recall  f1-score   support\n",
      "\n",
      "           0       0.94      0.92      0.93       152\n",
      "           1       1.00      0.89      0.94        71\n",
      "           2       1.00      0.92      0.96       108\n",
      "           3       0.94      0.98      0.96       388\n",
      "           4       0.99      1.00      0.99       485\n",
      "\n",
      "    accuracy                           0.97      1204\n",
      "   macro avg       0.97      0.94      0.96      1204\n",
      "weighted avg       0.97      0.97      0.97      1204\n",
      "\n"
     ]
    },
    {
     "name": "stderr",
     "output_type": "stream",
     "text": [
      "/usr/local/lib/python3.7/dist-packages/sklearn/utils/deprecation.py:87: FutureWarning: Function plot_confusion_matrix is deprecated; Function `plot_confusion_matrix` is deprecated in 1.0 and will be removed in 1.2. Use one of the class methods: ConfusionMatrixDisplay.from_predictions or ConfusionMatrixDisplay.from_estimator.\n",
      "  warnings.warn(msg, category=FutureWarning)\n",
      "/usr/local/lib/python3.7/dist-packages/sklearn/utils/deprecation.py:87: FutureWarning: Function plot_confusion_matrix is deprecated; Function `plot_confusion_matrix` is deprecated in 1.0 and will be removed in 1.2. Use one of the class methods: ConfusionMatrixDisplay.from_predictions or ConfusionMatrixDisplay.from_estimator.\n",
      "  warnings.warn(msg, category=FutureWarning)\n"
     ]
    },
    {
     "data": {
      "image/png": "[encoded data removed]",
      "text/plain": [
       "<Figure size 720x720 with 4 Axes>"
      ]
     },
     "metadata": {
      "needs_background": "light"
     },
     "output_type": "display_data"
    }
   ],
   "source": [
    "#pass the name of the model and automate the trainig process\n",
    "rf_model_output = model_train(model_name=\"Random_Forest\")"
   ]
  },
  {
   "cell_type": "markdown",
   "metadata": {
    "id": "tS-BPJOT12oA"
   },
   "source": [
    "### Train a DecisionTree Model "
   ]
  },
  {
   "cell_type": "code",
   "execution_count": null,
   "metadata": {
    "colab": {
     "base_uri": "https://localhost:8080/",
     "height": 1000
    },
    "id": "soO2UDRp0MCG",
    "outputId": "ce6a2f09-587a-4464-cd3d-e36c79315364"
   },
   "outputs": [
    {
     "name": "stdout",
     "output_type": "stream",
     "text": [
      "----------DECISION TREE-----------\n",
      "F1 score is  0.9279739802897904\n",
      "-----------------------TEST SET REPORT FOR DECISION TREE ---------------------------------------------\n",
      "                precision    recall  f1-score   support\n",
      "\n",
      "       Banking       0.76      0.84      0.80        38\n",
      "       Jobs-IT       0.94      0.83      0.88        18\n",
      "Rent-Apartment       0.90      0.96      0.93        27\n",
      "        Retail       0.92      0.92      0.92        97\n",
      "    Sell-House       1.00      0.97      0.98       121\n",
      "\n",
      "      accuracy                           0.93       301\n",
      "     macro avg       0.90      0.90      0.90       301\n",
      "  weighted avg       0.93      0.93      0.93       301\n",
      "\n",
      "-----------------------TRAIN SET REPORT FOR DECISION TREE--------------------------------------------\n",
      "                precision    recall  f1-score   support\n",
      "\n",
      "       Banking       0.89      0.92      0.90       152\n",
      "       Jobs-IT       0.99      0.93      0.96        71\n",
      "Rent-Apartment       0.97      0.90      0.93       108\n",
      "        Retail       0.95      0.97      0.96       388\n",
      "    Sell-House       0.99      0.99      0.99       485\n",
      "\n",
      "      accuracy                           0.96      1204\n",
      "     macro avg       0.96      0.94      0.95      1204\n",
      "  weighted avg       0.96      0.96      0.96      1204\n",
      "\n"
     ]
    },
    {
     "name": "stderr",
     "output_type": "stream",
     "text": [
      "/usr/local/lib/python3.7/dist-packages/sklearn/utils/deprecation.py:87: FutureWarning: Function plot_confusion_matrix is deprecated; Function `plot_confusion_matrix` is deprecated in 1.0 and will be removed in 1.2. Use one of the class methods: ConfusionMatrixDisplay.from_predictions or ConfusionMatrixDisplay.from_estimator.\n",
      "  warnings.warn(msg, category=FutureWarning)\n",
      "/usr/local/lib/python3.7/dist-packages/sklearn/utils/deprecation.py:87: FutureWarning: Function plot_confusion_matrix is deprecated; Function `plot_confusion_matrix` is deprecated in 1.0 and will be removed in 1.2. Use one of the class methods: ConfusionMatrixDisplay.from_predictions or ConfusionMatrixDisplay.from_estimator.\n",
      "  warnings.warn(msg, category=FutureWarning)\n"
     ]
    },
    {
     "data": {
      "image/png": "[encoded data removed]",
      "text/plain": [
       "<Figure size 720x720 with 4 Axes>"
      ]
     },
     "metadata": {
      "needs_background": "light"
     },
     "output_type": "display_data"
    }
   ],
   "source": [
    "#pass the name of the model and automate the trainig process\n",
    "dt_model_output = model_train(model_name=\"Decision_Tree\")"
   ]
  },
  {
   "cell_type": "markdown",
   "metadata": {
    "id": "zobmkd1OsBMr"
   },
   "source": [
    "### Train a XGBOOST "
   ]
  },
  {
   "cell_type": "code",
   "execution_count": null,
   "metadata": {
    "colab": {
     "base_uri": "https://localhost:8080/",
     "height": 1000
    },
    "id": "LsYKrWkMqUp8",
    "outputId": "0d8ee0b5-9c01-45d5-82ae-4c39c42a4434"
   },
   "outputs": [
    {
     "name": "stdout",
     "output_type": "stream",
     "text": [
      "-----------------XGBOOST---------------------\n",
      "F1 score is  0.9471365290302168\n",
      "-----------------------TEST SET REPORT FOR XGBOOST---------------------------------------------\n",
      "                precision    recall  f1-score   support\n",
      "\n",
      "       Banking       0.85      0.87      0.86        38\n",
      "       Jobs-IT       1.00      1.00      1.00        18\n",
      "Rent-Apartment       0.93      0.93      0.93        27\n",
      "        Retail       0.93      0.94      0.93        97\n",
      "    Sell-House       0.99      0.98      0.98       121\n",
      "\n",
      "      accuracy                           0.95       301\n",
      "     macro avg       0.94      0.94      0.94       301\n",
      "  weighted avg       0.95      0.95      0.95       301\n",
      "\n",
      "-----------------------TRAIN SET REPORT FOR XGBOOST--------------------------------------------\n",
      "                precision    recall  f1-score   support\n",
      "\n",
      "       Banking       0.95      0.95      0.95       152\n",
      "       Jobs-IT       1.00      0.90      0.95        71\n",
      "Rent-Apartment       0.98      0.92      0.95       108\n",
      "        Retail       0.96      0.99      0.97       388\n",
      "    Sell-House       0.99      0.99      0.99       485\n",
      "\n",
      "      accuracy                           0.97      1204\n",
      "     macro avg       0.98      0.95      0.96      1204\n",
      "  weighted avg       0.97      0.97      0.97      1204\n",
      "\n"
     ]
    },
    {
     "name": "stderr",
     "output_type": "stream",
     "text": [
      "/usr/local/lib/python3.7/dist-packages/sklearn/utils/deprecation.py:87: FutureWarning: Function plot_confusion_matrix is deprecated; Function `plot_confusion_matrix` is deprecated in 1.0 and will be removed in 1.2. Use one of the class methods: ConfusionMatrixDisplay.from_predictions or ConfusionMatrixDisplay.from_estimator.\n",
      "  warnings.warn(msg, category=FutureWarning)\n",
      "/usr/local/lib/python3.7/dist-packages/sklearn/utils/deprecation.py:87: FutureWarning: Function plot_confusion_matrix is deprecated; Function `plot_confusion_matrix` is deprecated in 1.0 and will be removed in 1.2. Use one of the class methods: ConfusionMatrixDisplay.from_predictions or ConfusionMatrixDisplay.from_estimator.\n",
      "  warnings.warn(msg, category=FutureWarning)\n"
     ]
    },
    {
     "data": {
      "image/png": "[encoded data removed]",
      "text/plain": [
       "<Figure size 720x720 with 4 Axes>"
      ]
     },
     "metadata": {
      "needs_background": "light"
     },
     "output_type": "display_data"
    }
   ],
   "source": [
    "#pass the name of the model and automate the trainig process\n",
    "xgb_model_output = model_train(model_name=\"XGBOOST\") "
   ]
  },
  {
   "cell_type": "code",
   "execution_count": null,
   "metadata": {
    "id": "ZdFTBFRHB9nf"
   },
   "outputs": [],
   "source": [
    "xgb_model_output"
   ]
  },
  {
   "cell_type": "markdown",
   "metadata": {
    "id": "S7Wvf_EW8ixu"
   },
   "source": [
    "### Compare models for best performance and run validation data on the best performing model"
   ]
  },
  {
   "cell_type": "code",
   "execution_count": null,
   "metadata": {
    "colab": {
     "base_uri": "https://localhost:8080/"
    },
    "id": "CYxG-9JW8h9X",
    "outputId": "f600bbc8-413e-484b-b4bd-2de5dc154477"
   },
   "outputs": [
    {
     "name": "stdout",
     "output_type": "stream",
     "text": [
      "Finalized Model is : XGB Model\n",
      "The  val_score_test is 0.9 \n",
      "The val_recall_test is 0.9 \n",
      "The val_precision_test is 1.0 \n",
      "The val_f1_score_test is 0.8526315789473685\n"
     ]
    },
    {
     "name": "stderr",
     "output_type": "stream",
     "text": [
      "/usr/local/lib/python3.7/dist-packages/sklearn/metrics/_classification.py:1318: UndefinedMetricWarning: Recall is ill-defined and being set to 0.0 in labels with no true samples. Use `zero_division` parameter to control this behavior.\n",
      "  _warn_prf(average, modifier, msg_start, len(result))\n"
     ]
    }
   ],
   "source": [
    "def compare_and_finalize_models(rf,dt,xgb,valx_data,valy_data):\n",
    "\n",
    "  ''' Compares the best performing model and loads that particular model and performs validation on validation dataset.\n",
    "\n",
    "  Input : model outputs from RF, DT ,XGB ,X_validation,Y_validation\n",
    "\n",
    "  Output : Model metrics for Validation data '''\n",
    "\n",
    "  model_name = \"finalized__model.pkl\"\n",
    "  rfm = rf['test_score']\n",
    "  dtm = dt['test_score']\n",
    "  xgbm = xgb[\"test_score\"]\n",
    "\n",
    "  if rfm > dtm  and dtm > xgbm  :\n",
    "    print(\"Finalized Model is : RandomForestModel\")\n",
    "    loaded_model = pickle.load(open(\"/content/finalized_model_RF.sav\", 'rb'))\n",
    "  elif dtm > rfm and dtm > xgbm :\n",
    "    print(\"Finalized Model is : Decision Tree Model \")\n",
    "    loaded_model = pickle.load(open(\"/content/finalized_model_DT.sav\", 'rb'))\n",
    "  else:\n",
    "    print(\"Finalized Model is : XGB Model\")\n",
    "    loaded_model = pickle.load(open(\"/content/finalized_model_XGB.sav\", 'rb'))\n",
    "    \n",
    "\n",
    "  val_score_test = loaded_model.score(valx_data, valy_data)\n",
    "  print(f\"The  val_score_test is {val_score_test} \")\n",
    "\n",
    "  val_recall_test = recall_score(valy_data, loaded_model.predict(valx_data),average=\"weighted\")\n",
    "  print(f\"The val_recall_test is {val_recall_test} \")\n",
    "\n",
    "  val_precision_test = precision_score(valy_data, loaded_model.predict(valx_data),average=\"weighted\")\n",
    "  print(f\"The val_precision_test is {val_precision_test} \")\n",
    "\n",
    "  val_f1_score_test = f1_score(loaded_model.predict(valx_data),valy_data,average=\"weighted\")\n",
    "  print(f\"The val_f1_score_test is {val_f1_score_test}\")\n",
    "\n",
    "  output={ \"val_score_test\": val_score_test,\n",
    "      \"val_recall_test\" : val_recall_test,\n",
    "      \"val_precision_test\" : val_precision_test,\n",
    "      \"val_f1_score_test\" : val_f1_score_test}\n",
    "\n",
    "  return output\n",
    "        \n",
    "\n",
    "output = compare_and_finalize_models(rf_model_output,dt_model_output,xgb_model_output,data_handler[\"X_for_valid_df\"],data_handler[\"valid_df_labels\"])\n",
    " \n",
    "\n"
   ]
  }
 ],
 "metadata": {
  "colab": {
   "collapsed_sections": [],
   "name": "FINALNOTEBOOKFOR_DIGITAL_ADVERTISMENT_CLASSIFICATION.ipynb",
   "provenance": []
  },
  "kernelspec": {
   "display_name": "Python 3 (ipykernel)",
   "language": "python",
   "name": "python3"
  },
  "language_info": {
   "codemirror_mode": {
    "name": "ipython",
    "version": 3
   },
   "file_extension": ".py",
   "mimetype": "text/x-python",
   "name": "python",
   "nbconvert_exporter": "python",
   "pygments_lexer": "ipython3",
   "version": "3.7.12"
  },
  "vscode": {
   "interpreter": {
    "hash": "f9f85f796d01129d0dd105a088854619f454435301f6ffec2fea96ecbd9be4ac"
   }
  }
 },
 "nbformat": 4,
 "nbformat_minor": 1
}
